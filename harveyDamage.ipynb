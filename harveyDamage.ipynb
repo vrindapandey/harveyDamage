{
 "cells": [
  {
   "cell_type": "markdown",
   "id": "7f68e50d-caef-45ab-ae56-77fe7ef77caa",
   "metadata": {},
   "source": [
    "Part 1: (3 points) Data preprocessing and visualization\r\n",
    "\r\n",
    "You will need to perform data analysis and pre-processing to prepare the images for training. At a minimum, you shoul \r\n",
    "\r\n",
    "Write code to load the data into Python data structures\r\n",
    "\r\n",
    "Investigate the datasets to determine basic attributes of the images\r\n",
    "\r\n",
    "Ensure data is split for training, validation and testing and perform any additional preprocessing (e.g., rescaling, normalization, etc.) so that it can be used for training/evaluation of the neural networks you will build in Part 2."
   ]
  },
  {
   "cell_type": "code",
   "execution_count": 13,
   "id": "19660fad-8c06-4c65-bff7-0766f074d2fb",
   "metadata": {},
   "outputs": [
    {
     "name": "stdout",
     "output_type": "stream",
     "text": [
      "/code/harveyDamage\n",
      "/bin/bash: line 1: cd: /root/code: No such file or directory\n",
      "/code/harveyDamage\n"
     ]
    }
   ],
   "source": [
    "!pwd\n",
    "!cd ~/code\n",
    "!pwd\n",
    "# load - train - test"
   ]
  },
  {
   "cell_type": "code",
   "execution_count": 14,
   "id": "90199e4d-404c-42b2-89a4-111b666db733",
   "metadata": {},
   "outputs": [],
   "source": [
    "import os\n",
    "import pandas as pd\n",
    "import random\n",
    "import shutil\n",
    "from pathlib import Path\n",
    "\n",
    "data_dir = Path(\"datasets/unit03/Project3\")\n",
    "positive_dir = data_dir / \"damage\"\n",
    "negative_dir = data_dir / \"no_damage\"\n",
    "\n",
    "output_dir = Path(\"datasets/unit03/Project3\")\n",
    "train_pos = output_dir / \"train/damage\"\n",
    "test_pos = output_dir / \"test/damage\"\n",
    "train_neg = output_dir / \"train/no_damage\"\n",
    "test_neg = output_dir / \"test/no_damage\"\n",
    "\n",
    "for d in [train_pos, test_pos, train_neg, test_neg]:\n",
    "    d.mkdir(parents=True, exist_ok=True)\n",
    "\n",
    "all_damage_file_paths = os.listdir('coe379L-sp25/datasets/unit03/Project3/damage')\n",
    "all_no_damage_file_paths = os.listdir('coe379L-sp25/datasets/unit03/Project3/no_damage')\n",
    "\n",
    "# def split_and_copy(src_dir, train_dest, test_dest, split_ratio=0.7):\n",
    "#     files = list(src_dir.glob(\"*\"))\n",
    "#     random.shuffle(files)\n",
    "#     split_idx = int(len(files) * split_ratio)\n",
    "#     train_files = files[:split_idx]\n",
    "#     test_files = files[split_idx:]\n",
    "    \n",
    "#     for f in train_files:\n",
    "#         shutil.copy(f, train_dest / f.name)\n",
    "#     for f in test_files:\n",
    "#         shutil.copy(f, test_dest / f.name)\n",
    "\n",
    "# split_and_copy(positive_dir, train_pos, test_pos)\n",
    "# split_and_copy(negative_dir, train_neg, test_neg)\n"
   ]
  },
  {
   "cell_type": "code",
   "execution_count": 15,
   "id": "9b25f403-0588-4d4a-b412-1ac9ba03325f",
   "metadata": {},
   "outputs": [
    {
     "name": "stdout",
     "output_type": "stream",
     "text": [
      "train damage image count:  11336\n",
      "test damage image count:  2835\n",
      "len of overlap:  0\n",
      "train no-damage image count:  5721\n",
      "test no-damage image count:  1431\n",
      "len of overlap:  0\n"
     ]
    }
   ],
   "source": [
    "import random\n",
    "\n",
    "train_damage_paths = random.sample(all_damage_file_paths, int(len(all_damage_file_paths)*0.8))\n",
    "print(\"train damage image count: \", len(train_damage_paths))\n",
    "test_damage_paths = [ p for p in all_damage_file_paths if p not in train_damage_paths]\n",
    "print(\"test damage image count: \", len(test_damage_paths))\n",
    "# ensure no overlap:\n",
    "overlap = [p for p in train_damage_paths if p in test_damage_paths]\n",
    "print(\"len of overlap: \", len(overlap))\n",
    "\n",
    "train_no_damage_paths = random.sample(all_no_damage_file_paths, int(len(all_no_damage_file_paths)*0.8))\n",
    "print(\"train no-damage image count: \", len(train_no_damage_paths))\n",
    "test_no_damage_paths = [ p for p in all_no_damage_file_paths if p not in train_no_damage_paths]\n",
    "print(\"test no-damage image count: \", len(test_no_damage_paths))\n",
    "# ensure no overlap:\n",
    "overlap = [p for p in train_no_damage_paths if p in test_no_damage_paths]\n",
    "print(\"len of overlap: \", len(overlap))"
   ]
  },
  {
   "cell_type": "code",
   "execution_count": 16,
   "id": "1eeda238-cca0-4846-8177-8a975a929d25",
   "metadata": {},
   "outputs": [],
   "source": [
    "# # ensure to copy the images to the directories\n",
    "# import shutil\n",
    "# for p in train_damage_paths:\n",
    "#     shutil.copyfile(os.path.join('datasets/unit03/Project3/train/damage', p), os.path.join('coe379L-sp25/datasets/unit03/Project3/damage', p) )\n",
    "\n",
    "# for p in test_damage_paths:\n",
    "#     shutil.copyfile(os.path.join('datasets/unit03/Project3/test/damage', p), os.path.join('coe379L-sp25/datasets/unit03/Project3/damage', p) )\n",
    "\n",
    "# for p in train_no_damage_paths:\n",
    "#     shutil.copyfile(os.path.join('datasets/unit03/Project3/train/no_damage', p), os.path.join('coe379L-sp25/datasets/unit03/Project3/no_damage', p) )\n",
    "\n",
    "# for p in test_no_damage_paths:\n",
    "#     shutil.copyfile(os.path.join('datasets/unit03/Project3/test/no_damage', p), os.path.join('coe379L-sp25/datasets/unit03/Project3/no_damage', p) )\n",
    "\n",
    "# # check counts:\n",
    "# print(\"Files in train/damage: \", len(os.listdir('datasets/unit03/Project3/train/damage')))\n",
    "# print(\"Files in train/no_damage: \", len(os.listdir('datasets/unit03/Project3/train/no_damage')))\n",
    "\n",
    "# print(\"Files in test/damage: \", len(os.listdir('datasets/unit03/Project3/test/damage')))\n",
    "# print(\"Files in test/no_damage: \", len(os.listdir('datasets/unit03/Project3/test/no_damage')))"
   ]
  },
  {
   "cell_type": "code",
   "execution_count": 17,
   "id": "fbef9df3-aaf4-4266-b102-2544872e5fc3",
   "metadata": {},
   "outputs": [
    {
     "name": "stdout",
     "output_type": "stream",
     "text": [
      "Files in train/damage:  11335\n",
      "Files in train/no_damage:  5721\n",
      "Files in test/damage:  2835\n",
      "Files in test/no_damage:  1431\n"
     ]
    }
   ],
   "source": [
    "import shutil\n",
    "import os\n",
    "\n",
    "# Ensure to copy the images to the directories\n",
    "for p in train_damage_paths:\n",
    "    src = os.path.join('coe379L-sp25/datasets/unit03/Project3/damage', p)\n",
    "    dst = os.path.join('datasets/unit03/Project3/train/damage', p)\n",
    "    #print(src)\n",
    "    #print(dst)\n",
    "\n",
    "    # Skip if the source is a directory (like .ipynb_checkpoints)\n",
    "    if os.path.isdir(src):\n",
    "        continue  # Skip this iteration and move to the next file\n",
    "\n",
    "    # Copy the file if it is not a directory\n",
    "    shutil.copyfile(src, dst)\n",
    "\n",
    "for p in test_damage_paths:\n",
    "    src = os.path.join('coe379L-sp25/datasets/unit03/Project3/damage', p)\n",
    "    dst = os.path.join('datasets/unit03/Project3/test/damage', p)\n",
    "    # Skip if the source is a directory (like .ipynb_checkpoints)\n",
    "    if os.path.isdir(src):\n",
    "        continue  # Skip this iteration and move to the next file\n",
    "\n",
    "    # Copy the file if it is not a directory\n",
    "    shutil.copyfile(src, dst)\n",
    "\n",
    "for p in train_no_damage_paths:\n",
    "    src = os.path.join('coe379L-sp25/datasets/unit03/Project3/no_damage', p)\n",
    "    dst = os.path.join('datasets/unit03/Project3/train/no_damage', p)\n",
    "    # Skip if the source is a directory (like .ipynb_checkpoints)\n",
    "    if os.path.isdir(src):\n",
    "        continue  # Skip this iteration and move to the next file\n",
    "\n",
    "    # Copy the file if it is not a directory\n",
    "    shutil.copyfile(src, dst)\n",
    "\n",
    "for p in test_no_damage_paths:\n",
    "    src = os.path.join('coe379L-sp25/datasets/unit03/Project3/no_damage', p)\n",
    "    dst = os.path.join('datasets/unit03/Project3/test/no_damage', p)\n",
    "    # Skip if the source is a directory (like .ipynb_checkpoints)\n",
    "    if os.path.isdir(src):\n",
    "        continue  # Skip this iteration and move to the next file\n",
    "\n",
    "    # Copy the file if it is not a directory\n",
    "    shutil.copyfile(src, dst)\n",
    "\n",
    "# Check counts:\n",
    "print(\"Files in train/damage: \", len(os.listdir('datasets/unit03/Project3/train/damage')))\n",
    "print(\"Files in train/no_damage: \", len(os.listdir('datasets/unit03/Project3/train/no_damage')))\n",
    "print(\"Files in test/damage: \", len(os.listdir('datasets/unit03/Project3/test/damage')))\n",
    "print(\"Files in test/no_damage: \", len(os.listdir('datasets/unit03/Project3/test/no_damage')))\n"
   ]
  },
  {
   "cell_type": "code",
   "execution_count": 18,
   "id": "450fd4a4-a082-4bc0-8675-ed064611cd36",
   "metadata": {},
   "outputs": [
    {
     "name": "stdout",
     "output_type": "stream",
     "text": [
      "Total Train:  17057\n",
      " Total Test:  4266\n",
      " Total:  21323\n",
      " Test Ratio:  0.20006565680251373\n",
      " Test Ratio:  0.7999343431974862\n"
     ]
    }
   ],
   "source": [
    "#Total Train\n",
    "print(\"Total Train: \", len(train_damage_paths) + len(train_no_damage_paths))\n",
    "\n",
    "#Total Test\n",
    "print(\" Total Test: \", len(test_damage_paths) + len(test_no_damage_paths))\n",
    "\n",
    "#Total Images\n",
    "print(\" Total: \", len(train_damage_paths) + len(train_no_damage_paths) + len(test_damage_paths) + len(test_no_damage_paths))\n",
    "\n",
    "#Ratio\n",
    "print(\" Test Ratio: \", (len(test_damage_paths) + len(test_no_damage_paths) )/ 21323)\n",
    "print(\" Test Ratio: \", (len(train_damage_paths) + len(train_no_damage_paths) )/ 21323)"
   ]
  },
  {
   "cell_type": "code",
   "execution_count": 19,
   "id": "2b3e4ddb-e5b3-4c70-ad07-25baa4180e83",
   "metadata": {
    "scrolled": true
   },
   "outputs": [
    {
     "name": "stdout",
     "output_type": "stream",
     "text": [
      "Randomly selected image: coe379L-sp25/datasets/unit03/Project3/damage/-95.546805_29.757352.jpeg\n"
     ]
    },
    {
     "data": {
      "image/png": "[encoded data removed]",
      "text/plain": [
       "<Figure size 640x480 with 1 Axes>"
      ]
     },
     "metadata": {},
     "output_type": "display_data"
    },
    {
     "name": "stdout",
     "output_type": "stream",
     "text": [
      "Size (width, height): (128, 128)\n",
      "Mode: RGB\n",
      "Format: JPEG\n"
     ]
    }
   ],
   "source": [
    "#image attributes: \n",
    "\n",
    "# Size (width, height): (128, 128)\n",
    "# Mode: RGB\n",
    "# Format: JPEG\n",
    "\n",
    "import matplotlib.pyplot as plt\n",
    "from PIL import Image\n",
    "import os\n",
    "\n",
    "import random\n",
    "from pathlib import Path\n",
    "\n",
    "import random\n",
    "from pathlib import Path\n",
    "\n",
    "damage_folder = Path(\"coe379L-sp25/datasets/unit03/Project3/damage\")\n",
    "\n",
    "image_files = list(damage_folder.glob(\"*.[jJpP]*[gGnN]*\"))  # catches jpg, jpeg, png, etc.\n",
    "\n",
    "\n",
    "img_path = random.choice(image_files)\n",
    "\n",
    "print(\"Randomly selected image:\", img_path)\n",
    "img = Image.open(img_path)\n",
    "\n",
    "plt.imshow(img)\n",
    "plt.axis(\"off\")  # hides axes\n",
    "plt.title(\"Damage Example\")\n",
    "plt.show()\n",
    "\n",
    "print(\"Size (width, height):\", img.size)\n",
    "print(\"Mode:\", img.mode)\n",
    "print(\"Format:\", img.format)\n"
   ]
  },
  {
   "cell_type": "code",
   "execution_count": 20,
   "id": "8da4949c-b58b-467b-86b0-6f3551963584",
   "metadata": {},
   "outputs": [],
   "source": [
    "# # rescaling / normalization\n",
    "\n",
    "# from PIL import Image\n",
    "# from pathlib import Path\n",
    "# import numpy as np\n",
    "\n",
    "# # Input dataset path\n",
    "# base_path = Path(\"datasets/unit03/Project3\")  # Adjust this to your structure\n",
    "\n",
    "# # Output path for normalized images\n",
    "# # ??\n",
    "# normalized_path = Path(\"preDatasets/unit03/Project3\")\n",
    "# normalized_path.mkdir(parents=True, exist_ok=True)\n",
    "\n",
    "# # Folder splits and class names\n",
    "# splits = ['train', 'test']\n",
    "# classes = ['damage', 'no_damage']\n",
    "\n",
    "# for split in splits:\n",
    "#     for cls in classes:\n",
    "#         src_folder = base_path / split / cls\n",
    "#         dest_folder = normalized_path / split / cls\n",
    "#         dest_folder.mkdir(parents=True, exist_ok=True)\n",
    "\n",
    "#         img_files = list(src_folder.glob(\"*.*\"))\n",
    "\n",
    "#         for img_path in img_files:\n",
    "#             try:\n",
    "#                 # Load image in RGB\n",
    "#                 img = Image.open(img_path).convert(\"RGB\")\n",
    "                \n",
    "#                 # Normalize image (scale to [0, 1]) and back to [0, 255] uint8\n",
    "#                 img_array = np.array(img) / 255.0\n",
    "#                 normalized_array = (img_array * 255).astype(np.uint8)\n",
    "#                 normalized_img = Image.fromarray(normalized_array)\n",
    "\n",
    "#                 # Save normalized image with same filename\n",
    "#                 out_path = dest_folder / img_path.name\n",
    "#                 normalized_img.save(out_path)\n",
    "\n",
    "#             except Exception as e:\n",
    "#                 print(f\"Error processing {img_path.name}: {e}\")\n",
    "\n",
    "\n",
    "# #Total Train\n",
    "# print(\"Total Train: \", len(preDatasets/unit03/Project3) )\n",
    "\n",
    "# #Total Test\n",
    "# print(\" Total Test: \", len(test_damage_paths) + len(test_no_damage_paths))\n",
    "\n",
    "# #Total Images\n",
    "# print(\" Total: \", len(train_damage_paths) + len(train_no_damage_paths) + len(test_damage_paths) + len(test_no_damage_paths))\n",
    "\n"
   ]
  },
  {
   "cell_type": "code",
   "execution_count": 21,
   "id": "e977a916-f470-49dc-a685-7919ea66d576",
   "metadata": {},
   "outputs": [
    {
     "name": "stderr",
     "output_type": "stream",
     "text": [
      "2025-04-14 20:29:00.502172: I external/local_xla/xla/tsl/cuda/cudart_stub.cc:32] Could not find cuda drivers on your machine, GPU will not be used.\n",
      "2025-04-14 20:29:00.517501: I external/local_xla/xla/tsl/cuda/cudart_stub.cc:32] Could not find cuda drivers on your machine, GPU will not be used.\n",
      "2025-04-14 20:29:00.527993: E external/local_xla/xla/stream_executor/cuda/cuda_fft.cc:467] Unable to register cuFFT factory: Attempting to register factory for plugin cuFFT when one has already been registered\n",
      "WARNING: All log messages before absl::InitializeLog() is called are written to STDERR\n",
      "E0000 00:00:1744662540.546991   18017 cuda_dnn.cc:8579] Unable to register cuDNN factory: Attempting to register factory for plugin cuDNN when one has already been registered\n",
      "E0000 00:00:1744662540.552778   18017 cuda_blas.cc:1407] Unable to register cuBLAS factory: Attempting to register factory for plugin cuBLAS when one has already been registered\n",
      "W0000 00:00:1744662540.576028   18017 computation_placer.cc:177] computation placer already registered. Please check linkage and avoid linking the same target more than once.\n",
      "W0000 00:00:1744662540.576077   18017 computation_placer.cc:177] computation placer already registered. Please check linkage and avoid linking the same target more than once.\n",
      "W0000 00:00:1744662540.576079   18017 computation_placer.cc:177] computation placer already registered. Please check linkage and avoid linking the same target more than once.\n",
      "W0000 00:00:1744662540.576082   18017 computation_placer.cc:177] computation placer already registered. Please check linkage and avoid linking the same target more than once.\n",
      "2025-04-14 20:29:00.581834: I tensorflow/core/platform/cpu_feature_guard.cc:210] This TensorFlow binary is optimized to use available CPU instructions in performance-critical operations.\n",
      "To enable the following instructions: AVX2 FMA, in other operations, rebuild TensorFlow with the appropriate compiler flags.\n"
     ]
    },
    {
     "name": "stdout",
     "output_type": "stream",
     "text": [
      "Found 17056 files belonging to 2 classes.\n",
      "Using 13645 files for training.\n",
      "Using 3411 files for validation.\n"
     ]
    },
    {
     "name": "stderr",
     "output_type": "stream",
     "text": [
      "2025-04-14 20:29:04.166356: E external/local_xla/xla/stream_executor/cuda/cuda_platform.cc:51] failed call to cuInit: INTERNAL: CUDA error: Failed call to cuInit: UNKNOWN ERROR (303)\n"
     ]
    }
   ],
   "source": [
    "# import needed classes and functions\n",
    "import tensorflow as tf\n",
    "import tensorflow_datasets as tfds\n",
    "#from tensorflow.keras.layers.experimental.preprocessing import Rescaling\n",
    "#from tensorflow.keras.layers.preprocessing import Rescaling\n",
    "from tensorflow.keras.layers import Rescaling\n",
    "\n",
    "\n",
    "\n",
    "# path to training data\n",
    "train_data_dir = 'datasets/unit03/Project3/train' # select train folder <-------------------------------------\n",
    "\n",
    "# controls the size of the \"batches\" of images streamed when accessing the datasets.\n",
    "# this is useful to control the memory usage with very large datasets\n",
    "batch_size = 32\n",
    "\n",
    "# target image size\n",
    "img_height = 128\n",
    "img_width = 128\n",
    "\n",
    "# note that the subset parameter can take values of \"training\", \"validation\", or \"both\";\n",
    "# the value dictates which dataset is returned (we want both)\n",
    "train_ds, val_ds = tf.keras.utils.image_dataset_from_directory(\n",
    "    train_data_dir,\n",
    "    validation_split=0.2,\n",
    "    subset=\"both\",\n",
    "    seed=123,\n",
    "    image_size=(img_height, img_width),\n",
    "    batch_size=batch_size\n",
    ")\n",
    "# rescale instance\n",
    "rescale = Rescaling(scale=1.0/255)\n",
    "\n",
    "# apply the rescale to the train and validation sets\n",
    "train_rescale_ds = train_ds.map(lambda image,label:(rescale(image),label))\n",
    "val_rescale_ds = val_ds.map(lambda image,label:(rescale(image),label))"
   ]
  },
  {
   "cell_type": "code",
   "execution_count": 22,
   "id": "474dc0b6-f480-46f3-8bdf-e86539e6f6f5",
   "metadata": {},
   "outputs": [
    {
     "name": "stdout",
     "output_type": "stream",
     "text": [
      "Found 4266 files belonging to 2 classes.\n"
     ]
    }
   ],
   "source": [
    "# path to test data\n",
    "test_data_dir = 'datasets/unit03/Project3/test' # select test folder <-------------------------------------\n",
    "\n",
    "# we do not set subset=both here because we do not want the test set split\n",
    "test_ds = tf.keras.utils.image_dataset_from_directory(\n",
    "    test_data_dir,\n",
    "    seed=123,\n",
    "    image_size=(img_height, img_width),\n",
    ")\n",
    "\n",
    "# approach 1: manually rescale data --\n",
    "rescale = Rescaling(scale=1.0/255)\n",
    "test_rescale_ds = test_ds.map(lambda image,label:(rescale(image),label))"
   ]
  },
  {
   "cell_type": "markdown",
   "id": "2ee4dc1e-ade3-4942-b0cb-2425e9df423c",
   "metadata": {},
   "source": [
    "Part 2: (10 points) Model design, training and evaluation\r\n",
    "\r\n",
    "You will explore different model architectures that we have seen in class, including:\r\n",
    "\r\n",
    "A dense (i.e., fully connected) ANN\r\n",
    "\r\n",
    "The Lenet-5 CNN architecture\r\n",
    "\r\n",
    "Alternate-Lenet-5 CNN architecture, described in the following paper (Table 1, Page 12 of the research paper https://arxiv.org/pdf/1807.01688.pdf, but note that the dataset is not the same as that analyzed in thed in the paper.)"
   ]
  },
  {
   "cell_type": "code",
   "execution_count": 23,
   "id": "3e89ffd7-ebfc-406f-a335-81ae10449d74",
   "metadata": {},
   "outputs": [
    {
     "name": "stderr",
     "output_type": "stream",
     "text": [
      "/usr/local/lib/python3.11/site-packages/keras/src/layers/convolutional/base_conv.py:107: UserWarning: Do not pass an `input_shape`/`input_dim` argument to a layer. When using Sequential models, prefer using an `Input(shape)` object as the first layer in the model instead.\n",
      "  super().__init__(activity_regularizer=activity_regularizer, **kwargs)\n"
     ]
    },
    {
     "data": {
      "text/html": [
       "<pre style=\"white-space:pre;overflow-x:auto;line-height:normal;font-family:Menlo,'DejaVu Sans Mono',consolas,'Courier New',monospace\"><span style=\"font-weight: bold\">Model: \"sequential\"</span>\n",
       "</pre>\n"
      ],
      "text/plain": [
       "\u001b[1mModel: \"sequential\"\u001b[0m\n"
      ]
     },
     "metadata": {},
     "output_type": "display_data"
    },
    {
     "data": {
      "text/html": [
       "<pre style=\"white-space:pre;overflow-x:auto;line-height:normal;font-family:Menlo,'DejaVu Sans Mono',consolas,'Courier New',monospace\">┏━━━━━━━━━━━━━━━━━━━━━━━━━━━━━━━━━┳━━━━━━━━━━━━━━━━━━━━━━━━┳━━━━━━━━━━━━━━━┓\n",
       "┃<span style=\"font-weight: bold\"> Layer (type)                    </span>┃<span style=\"font-weight: bold\"> Output Shape           </span>┃<span style=\"font-weight: bold\">       Param # </span>┃\n",
       "┡━━━━━━━━━━━━━━━━━━━━━━━━━━━━━━━━━╇━━━━━━━━━━━━━━━━━━━━━━━━╇━━━━━━━━━━━━━━━┩\n",
       "│ conv2d (<span style=\"color: #0087ff; text-decoration-color: #0087ff\">Conv2D</span>)                 │ (<span style=\"color: #00d7ff; text-decoration-color: #00d7ff\">None</span>, <span style=\"color: #00af00; text-decoration-color: #00af00\">128</span>, <span style=\"color: #00af00; text-decoration-color: #00af00\">128</span>, <span style=\"color: #00af00; text-decoration-color: #00af00\">64</span>)   │         <span style=\"color: #00af00; text-decoration-color: #00af00\">1,792</span> │\n",
       "├─────────────────────────────────┼────────────────────────┼───────────────┤\n",
       "│ max_pooling2d (<span style=\"color: #0087ff; text-decoration-color: #0087ff\">MaxPooling2D</span>)    │ (<span style=\"color: #00d7ff; text-decoration-color: #00d7ff\">None</span>, <span style=\"color: #00af00; text-decoration-color: #00af00\">64</span>, <span style=\"color: #00af00; text-decoration-color: #00af00\">64</span>, <span style=\"color: #00af00; text-decoration-color: #00af00\">64</span>)     │             <span style=\"color: #00af00; text-decoration-color: #00af00\">0</span> │\n",
       "├─────────────────────────────────┼────────────────────────┼───────────────┤\n",
       "│ conv2d_1 (<span style=\"color: #0087ff; text-decoration-color: #0087ff\">Conv2D</span>)               │ (<span style=\"color: #00d7ff; text-decoration-color: #00d7ff\">None</span>, <span style=\"color: #00af00; text-decoration-color: #00af00\">64</span>, <span style=\"color: #00af00; text-decoration-color: #00af00\">64</span>, <span style=\"color: #00af00; text-decoration-color: #00af00\">32</span>)     │        <span style=\"color: #00af00; text-decoration-color: #00af00\">18,464</span> │\n",
       "├─────────────────────────────────┼────────────────────────┼───────────────┤\n",
       "│ max_pooling2d_1 (<span style=\"color: #0087ff; text-decoration-color: #0087ff\">MaxPooling2D</span>)  │ (<span style=\"color: #00d7ff; text-decoration-color: #00d7ff\">None</span>, <span style=\"color: #00af00; text-decoration-color: #00af00\">32</span>, <span style=\"color: #00af00; text-decoration-color: #00af00\">32</span>, <span style=\"color: #00af00; text-decoration-color: #00af00\">32</span>)     │             <span style=\"color: #00af00; text-decoration-color: #00af00\">0</span> │\n",
       "├─────────────────────────────────┼────────────────────────┼───────────────┤\n",
       "│ conv2d_2 (<span style=\"color: #0087ff; text-decoration-color: #0087ff\">Conv2D</span>)               │ (<span style=\"color: #00d7ff; text-decoration-color: #00d7ff\">None</span>, <span style=\"color: #00af00; text-decoration-color: #00af00\">32</span>, <span style=\"color: #00af00; text-decoration-color: #00af00\">32</span>, <span style=\"color: #00af00; text-decoration-color: #00af00\">32</span>)     │         <span style=\"color: #00af00; text-decoration-color: #00af00\">9,248</span> │\n",
       "├─────────────────────────────────┼────────────────────────┼───────────────┤\n",
       "│ max_pooling2d_2 (<span style=\"color: #0087ff; text-decoration-color: #0087ff\">MaxPooling2D</span>)  │ (<span style=\"color: #00d7ff; text-decoration-color: #00d7ff\">None</span>, <span style=\"color: #00af00; text-decoration-color: #00af00\">16</span>, <span style=\"color: #00af00; text-decoration-color: #00af00\">16</span>, <span style=\"color: #00af00; text-decoration-color: #00af00\">32</span>)     │             <span style=\"color: #00af00; text-decoration-color: #00af00\">0</span> │\n",
       "├─────────────────────────────────┼────────────────────────┼───────────────┤\n",
       "│ flatten (<span style=\"color: #0087ff; text-decoration-color: #0087ff\">Flatten</span>)               │ (<span style=\"color: #00d7ff; text-decoration-color: #00d7ff\">None</span>, <span style=\"color: #00af00; text-decoration-color: #00af00\">8192</span>)           │             <span style=\"color: #00af00; text-decoration-color: #00af00\">0</span> │\n",
       "├─────────────────────────────────┼────────────────────────┼───────────────┤\n",
       "│ dense (<span style=\"color: #0087ff; text-decoration-color: #0087ff\">Dense</span>)                   │ (<span style=\"color: #00d7ff; text-decoration-color: #00d7ff\">None</span>, <span style=\"color: #00af00; text-decoration-color: #00af00\">100</span>)            │       <span style=\"color: #00af00; text-decoration-color: #00af00\">819,300</span> │\n",
       "├─────────────────────────────────┼────────────────────────┼───────────────┤\n",
       "│ dense_1 (<span style=\"color: #0087ff; text-decoration-color: #0087ff\">Dense</span>)                 │ (<span style=\"color: #00d7ff; text-decoration-color: #00d7ff\">None</span>, <span style=\"color: #00af00; text-decoration-color: #00af00\">84</span>)             │         <span style=\"color: #00af00; text-decoration-color: #00af00\">8,484</span> │\n",
       "├─────────────────────────────────┼────────────────────────┼───────────────┤\n",
       "│ dense_2 (<span style=\"color: #0087ff; text-decoration-color: #0087ff\">Dense</span>)                 │ (<span style=\"color: #00d7ff; text-decoration-color: #00d7ff\">None</span>, <span style=\"color: #00af00; text-decoration-color: #00af00\">2</span>)              │           <span style=\"color: #00af00; text-decoration-color: #00af00\">170</span> │\n",
       "└─────────────────────────────────┴────────────────────────┴───────────────┘\n",
       "</pre>\n"
      ],
      "text/plain": [
       "┏━━━━━━━━━━━━━━━━━━━━━━━━━━━━━━━━━┳━━━━━━━━━━━━━━━━━━━━━━━━┳━━━━━━━━━━━━━━━┓\n",
       "┃\u001b[1m \u001b[0m\u001b[1mLayer (type)                   \u001b[0m\u001b[1m \u001b[0m┃\u001b[1m \u001b[0m\u001b[1mOutput Shape          \u001b[0m\u001b[1m \u001b[0m┃\u001b[1m \u001b[0m\u001b[1m      Param #\u001b[0m\u001b[1m \u001b[0m┃\n",
       "┡━━━━━━━━━━━━━━━━━━━━━━━━━━━━━━━━━╇━━━━━━━━━━━━━━━━━━━━━━━━╇━━━━━━━━━━━━━━━┩\n",
       "│ conv2d (\u001b[38;5;33mConv2D\u001b[0m)                 │ (\u001b[38;5;45mNone\u001b[0m, \u001b[38;5;34m128\u001b[0m, \u001b[38;5;34m128\u001b[0m, \u001b[38;5;34m64\u001b[0m)   │         \u001b[38;5;34m1,792\u001b[0m │\n",
       "├─────────────────────────────────┼────────────────────────┼───────────────┤\n",
       "│ max_pooling2d (\u001b[38;5;33mMaxPooling2D\u001b[0m)    │ (\u001b[38;5;45mNone\u001b[0m, \u001b[38;5;34m64\u001b[0m, \u001b[38;5;34m64\u001b[0m, \u001b[38;5;34m64\u001b[0m)     │             \u001b[38;5;34m0\u001b[0m │\n",
       "├─────────────────────────────────┼────────────────────────┼───────────────┤\n",
       "│ conv2d_1 (\u001b[38;5;33mConv2D\u001b[0m)               │ (\u001b[38;5;45mNone\u001b[0m, \u001b[38;5;34m64\u001b[0m, \u001b[38;5;34m64\u001b[0m, \u001b[38;5;34m32\u001b[0m)     │        \u001b[38;5;34m18,464\u001b[0m │\n",
       "├─────────────────────────────────┼────────────────────────┼───────────────┤\n",
       "│ max_pooling2d_1 (\u001b[38;5;33mMaxPooling2D\u001b[0m)  │ (\u001b[38;5;45mNone\u001b[0m, \u001b[38;5;34m32\u001b[0m, \u001b[38;5;34m32\u001b[0m, \u001b[38;5;34m32\u001b[0m)     │             \u001b[38;5;34m0\u001b[0m │\n",
       "├─────────────────────────────────┼────────────────────────┼───────────────┤\n",
       "│ conv2d_2 (\u001b[38;5;33mConv2D\u001b[0m)               │ (\u001b[38;5;45mNone\u001b[0m, \u001b[38;5;34m32\u001b[0m, \u001b[38;5;34m32\u001b[0m, \u001b[38;5;34m32\u001b[0m)     │         \u001b[38;5;34m9,248\u001b[0m │\n",
       "├─────────────────────────────────┼────────────────────────┼───────────────┤\n",
       "│ max_pooling2d_2 (\u001b[38;5;33mMaxPooling2D\u001b[0m)  │ (\u001b[38;5;45mNone\u001b[0m, \u001b[38;5;34m16\u001b[0m, \u001b[38;5;34m16\u001b[0m, \u001b[38;5;34m32\u001b[0m)     │             \u001b[38;5;34m0\u001b[0m │\n",
       "├─────────────────────────────────┼────────────────────────┼───────────────┤\n",
       "│ flatten (\u001b[38;5;33mFlatten\u001b[0m)               │ (\u001b[38;5;45mNone\u001b[0m, \u001b[38;5;34m8192\u001b[0m)           │             \u001b[38;5;34m0\u001b[0m │\n",
       "├─────────────────────────────────┼────────────────────────┼───────────────┤\n",
       "│ dense (\u001b[38;5;33mDense\u001b[0m)                   │ (\u001b[38;5;45mNone\u001b[0m, \u001b[38;5;34m100\u001b[0m)            │       \u001b[38;5;34m819,300\u001b[0m │\n",
       "├─────────────────────────────────┼────────────────────────┼───────────────┤\n",
       "│ dense_1 (\u001b[38;5;33mDense\u001b[0m)                 │ (\u001b[38;5;45mNone\u001b[0m, \u001b[38;5;34m84\u001b[0m)             │         \u001b[38;5;34m8,484\u001b[0m │\n",
       "├─────────────────────────────────┼────────────────────────┼───────────────┤\n",
       "│ dense_2 (\u001b[38;5;33mDense\u001b[0m)                 │ (\u001b[38;5;45mNone\u001b[0m, \u001b[38;5;34m2\u001b[0m)              │           \u001b[38;5;34m170\u001b[0m │\n",
       "└─────────────────────────────────┴────────────────────────┴───────────────┘\n"
      ]
     },
     "metadata": {},
     "output_type": "display_data"
    },
    {
     "data": {
      "text/html": [
       "<pre style=\"white-space:pre;overflow-x:auto;line-height:normal;font-family:Menlo,'DejaVu Sans Mono',consolas,'Courier New',monospace\"><span style=\"font-weight: bold\"> Total params: </span><span style=\"color: #00af00; text-decoration-color: #00af00\">857,458</span> (3.27 MB)\n",
       "</pre>\n"
      ],
      "text/plain": [
       "\u001b[1m Total params: \u001b[0m\u001b[38;5;34m857,458\u001b[0m (3.27 MB)\n"
      ]
     },
     "metadata": {},
     "output_type": "display_data"
    },
    {
     "data": {
      "text/html": [
       "<pre style=\"white-space:pre;overflow-x:auto;line-height:normal;font-family:Menlo,'DejaVu Sans Mono',consolas,'Courier New',monospace\"><span style=\"font-weight: bold\"> Trainable params: </span><span style=\"color: #00af00; text-decoration-color: #00af00\">857,458</span> (3.27 MB)\n",
       "</pre>\n"
      ],
      "text/plain": [
       "\u001b[1m Trainable params: \u001b[0m\u001b[38;5;34m857,458\u001b[0m (3.27 MB)\n"
      ]
     },
     "metadata": {},
     "output_type": "display_data"
    },
    {
     "data": {
      "text/html": [
       "<pre style=\"white-space:pre;overflow-x:auto;line-height:normal;font-family:Menlo,'DejaVu Sans Mono',consolas,'Courier New',monospace\"><span style=\"font-weight: bold\"> Non-trainable params: </span><span style=\"color: #00af00; text-decoration-color: #00af00\">0</span> (0.00 B)\n",
       "</pre>\n"
      ],
      "text/plain": [
       "\u001b[1m Non-trainable params: \u001b[0m\u001b[38;5;34m0\u001b[0m (0.00 B)\n"
      ]
     },
     "metadata": {},
     "output_type": "display_data"
    }
   ],
   "source": [
    "# dense - any # of layers\n",
    "\n",
    "from keras import layers\n",
    "from keras import models\n",
    "import pandas as pd\n",
    "from keras import optimizers\n",
    "\n",
    "# Intializing a sequential model\n",
    "model_cnn = models.Sequential()\n",
    "\n",
    "# Adding first conv layer with 64 filters and kernel size 3x3 ,\n",
    "# Recall: using padding='same' ensures the output size has the same shape as the input size\n",
    "model_cnn.add(layers.Conv2D(64, (3, 3), activation='relu', padding=\"same\", input_shape=(128,128,3))) #First COnv2D Layer\n",
    "\n",
    "# Adding max pooling to reduce the size of output of first conv layer\n",
    "model_cnn.add(layers.MaxPooling2D((2, 2), padding='same'))\n",
    "\n",
    "model_cnn.add(layers.Conv2D(32, (3, 3), activation='relu', padding=\"same\"))\n",
    "model_cnn.add(layers.MaxPooling2D((2, 2), padding='same'))\n",
    "\n",
    "model_cnn.add(layers.Conv2D(32, (3, 3), activation='relu', padding=\"same\"))\n",
    "model_cnn.add(layers.MaxPooling2D((2, 2), padding='same')) #MaxPooling 2D layer\n",
    "\n",
    "# flattening the output of the conv layer after max pooling to make it ready for creating dense connections\n",
    "model_cnn.add(layers.Flatten())\n",
    "\n",
    "# Adding a fully connected dense layer with 100 neurons\n",
    "model_cnn.add(layers.Dense(100, activation='relu'))\n",
    "\n",
    "# Adding a fully connected dense layer with 84 neurons\n",
    "model_cnn.add(layers.Dense(84, activation='relu'))\n",
    "\n",
    "# Adding the output layer with * neurons and activation functions as softmax since this is a multi-class classification problem\n",
    "model_cnn.add(layers.Dense(2, activation='softmax')) #MaxPooling Output Layer - dam/nodam\n",
    "\n",
    "# Compile model\n",
    "# RMSprop (Root Mean Square Propagation) is commonly used in training deep neural networks.\n",
    "model_cnn.compile(optimizer=optimizers.RMSprop(learning_rate=1e-4), loss='sparse_categorical_crossentropy', metrics=['accuracy'])\n",
    "\n",
    "# Generating the summary of the model\n",
    "model_cnn.summary()"
   ]
  },
  {
   "cell_type": "code",
   "execution_count": 24,
   "id": "a4a5c7dd-ee28-46f6-8963-67051abe1b86",
   "metadata": {},
   "outputs": [
    {
     "name": "stdout",
     "output_type": "stream",
     "text": [
      "Epoch 1/20\n",
      "\u001b[1m427/427\u001b[0m \u001b[32m━━━━━━━━━━━━━━━━━━━━\u001b[0m\u001b[37m\u001b[0m \u001b[1m142s\u001b[0m 330ms/step - accuracy: 0.6929 - loss: 0.6064 - val_accuracy: 0.8150 - val_loss: 0.4944\n",
      "Epoch 2/20\n",
      "\u001b[1m427/427\u001b[0m \u001b[32m━━━━━━━━━━━━━━━━━━━━\u001b[0m\u001b[37m\u001b[0m \u001b[1m136s\u001b[0m 317ms/step - accuracy: 0.8208 - loss: 0.4270 - val_accuracy: 0.8262 - val_loss: 0.3909\n",
      "Epoch 3/20\n",
      "\u001b[1m427/427\u001b[0m \u001b[32m━━━━━━━━━━━━━━━━━━━━\u001b[0m\u001b[37m\u001b[0m \u001b[1m131s\u001b[0m 307ms/step - accuracy: 0.8569 - loss: 0.3642 - val_accuracy: 0.8918 - val_loss: 0.2926\n",
      "Epoch 4/20\n",
      "\u001b[1m427/427\u001b[0m \u001b[32m━━━━━━━━━━━━━━━━━━━━\u001b[0m\u001b[37m\u001b[0m \u001b[1m132s\u001b[0m 310ms/step - accuracy: 0.8827 - loss: 0.3056 - val_accuracy: 0.9129 - val_loss: 0.2478\n",
      "Epoch 5/20\n",
      "\u001b[1m427/427\u001b[0m \u001b[32m━━━━━━━━━━━━━━━━━━━━\u001b[0m\u001b[37m\u001b[0m \u001b[1m127s\u001b[0m 298ms/step - accuracy: 0.9123 - loss: 0.2412 - val_accuracy: 0.8886 - val_loss: 0.3057\n",
      "Epoch 6/20\n",
      "\u001b[1m427/427\u001b[0m \u001b[32m━━━━━━━━━━━━━━━━━━━━\u001b[0m\u001b[37m\u001b[0m \u001b[1m119s\u001b[0m 279ms/step - accuracy: 0.9227 - loss: 0.2012 - val_accuracy: 0.9296 - val_loss: 0.2054\n",
      "Epoch 7/20\n",
      "\u001b[1m427/427\u001b[0m \u001b[32m━━━━━━━━━━━━━━━━━━━━\u001b[0m\u001b[37m\u001b[0m \u001b[1m123s\u001b[0m 288ms/step - accuracy: 0.9292 - loss: 0.1838 - val_accuracy: 0.9332 - val_loss: 0.1828\n",
      "Epoch 8/20\n",
      "\u001b[1m427/427\u001b[0m \u001b[32m━━━━━━━━━━━━━━━━━━━━\u001b[0m\u001b[37m\u001b[0m \u001b[1m120s\u001b[0m 282ms/step - accuracy: 0.9372 - loss: 0.1622 - val_accuracy: 0.9229 - val_loss: 0.2149\n",
      "Epoch 9/20\n",
      "\u001b[1m427/427\u001b[0m \u001b[32m━━━━━━━━━━━━━━━━━━━━\u001b[0m\u001b[37m\u001b[0m \u001b[1m124s\u001b[0m 289ms/step - accuracy: 0.9411 - loss: 0.1486 - val_accuracy: 0.9461 - val_loss: 0.1423\n",
      "Epoch 10/20\n",
      "\u001b[1m427/427\u001b[0m \u001b[32m━━━━━━━━━━━━━━━━━━━━\u001b[0m\u001b[37m\u001b[0m \u001b[1m119s\u001b[0m 280ms/step - accuracy: 0.9468 - loss: 0.1330 - val_accuracy: 0.9326 - val_loss: 0.1926\n",
      "Epoch 11/20\n",
      "\u001b[1m427/427\u001b[0m \u001b[32m━━━━━━━━━━━━━━━━━━━━\u001b[0m\u001b[37m\u001b[0m \u001b[1m123s\u001b[0m 289ms/step - accuracy: 0.9523 - loss: 0.1205 - val_accuracy: 0.9384 - val_loss: 0.1631\n",
      "Epoch 12/20\n",
      "\u001b[1m427/427\u001b[0m \u001b[32m━━━━━━━━━━━━━━━━━━━━\u001b[0m\u001b[37m\u001b[0m \u001b[1m125s\u001b[0m 294ms/step - accuracy: 0.9585 - loss: 0.1069 - val_accuracy: 0.9543 - val_loss: 0.1147\n",
      "Epoch 13/20\n",
      "\u001b[1m427/427\u001b[0m \u001b[32m━━━━━━━━━━━━━━━━━━━━\u001b[0m\u001b[37m\u001b[0m \u001b[1m120s\u001b[0m 281ms/step - accuracy: 0.9619 - loss: 0.0970 - val_accuracy: 0.9604 - val_loss: 0.1022\n",
      "Epoch 14/20\n",
      "\u001b[1m427/427\u001b[0m \u001b[32m━━━━━━━━━━━━━━━━━━━━\u001b[0m\u001b[37m\u001b[0m \u001b[1m119s\u001b[0m 278ms/step - accuracy: 0.9651 - loss: 0.0896 - val_accuracy: 0.9613 - val_loss: 0.0966\n",
      "Epoch 15/20\n",
      "\u001b[1m427/427\u001b[0m \u001b[32m━━━━━━━━━━━━━━━━━━━━\u001b[0m\u001b[37m\u001b[0m \u001b[1m119s\u001b[0m 280ms/step - accuracy: 0.9658 - loss: 0.0877 - val_accuracy: 0.9595 - val_loss: 0.0984\n",
      "Epoch 16/20\n",
      "\u001b[1m427/427\u001b[0m \u001b[32m━━━━━━━━━━━━━━━━━━━━\u001b[0m\u001b[37m\u001b[0m \u001b[1m118s\u001b[0m 277ms/step - accuracy: 0.9707 - loss: 0.0795 - val_accuracy: 0.9191 - val_loss: 0.2101\n",
      "Epoch 17/20\n",
      "\u001b[1m427/427\u001b[0m \u001b[32m━━━━━━━━━━━━━━━━━━━━\u001b[0m\u001b[37m\u001b[0m \u001b[1m122s\u001b[0m 286ms/step - accuracy: 0.9719 - loss: 0.0740 - val_accuracy: 0.9496 - val_loss: 0.1307\n",
      "Epoch 18/20\n",
      "\u001b[1m427/427\u001b[0m \u001b[32m━━━━━━━━━━━━━━━━━━━━\u001b[0m\u001b[37m\u001b[0m \u001b[1m122s\u001b[0m 286ms/step - accuracy: 0.9741 - loss: 0.0716 - val_accuracy: 0.9648 - val_loss: 0.0857\n",
      "Epoch 19/20\n",
      "\u001b[1m427/427\u001b[0m \u001b[32m━━━━━━━━━━━━━━━━━━━━\u001b[0m\u001b[37m\u001b[0m \u001b[1m120s\u001b[0m 280ms/step - accuracy: 0.9767 - loss: 0.0648 - val_accuracy: 0.9607 - val_loss: 0.0966\n",
      "Epoch 20/20\n",
      "\u001b[1m427/427\u001b[0m \u001b[32m━━━━━━━━━━━━━━━━━━━━\u001b[0m\u001b[37m\u001b[0m \u001b[1m120s\u001b[0m 281ms/step - accuracy: 0.9784 - loss: 0.0575 - val_accuracy: 0.9657 - val_loss: 0.0863\n"
     ]
    }
   ],
   "source": [
    "# fit the model from image generator\n",
    "history = model_cnn.fit(\n",
    "            train_rescale_ds,\n",
    "            batch_size=32,\n",
    "            epochs=20,\n",
    "            validation_data=val_rescale_ds\n",
    ")"
   ]
  },
  {
   "cell_type": "code",
   "execution_count": 25,
   "id": "d335d955-36aa-42b9-b3fa-582eb49c58fc",
   "metadata": {},
   "outputs": [
    {
     "data": {
      "text/plain": [
       "0.9669479727745056"
      ]
     },
     "execution_count": 25,
     "metadata": {},
     "output_type": "execute_result"
    }
   ],
   "source": [
    "test_loss, test_accuracy = model_cnn.evaluate(test_rescale_ds, verbose=0)\n",
    "test_accuracy"
   ]
  },
  {
   "cell_type": "code",
   "execution_count": 26,
   "id": "f5712c54-eabf-4c0b-874b-60cbe171bfe1",
   "metadata": {},
   "outputs": [],
   "source": [
    "# Lenet - 5 - can follow class example"
   ]
  },
  {
   "cell_type": "code",
   "execution_count": 27,
   "id": "91602b7a-3a60-4a64-b212-bcfa964e9b8c",
   "metadata": {},
   "outputs": [
    {
     "data": {
      "text/html": [
       "<pre style=\"white-space:pre;overflow-x:auto;line-height:normal;font-family:Menlo,'DejaVu Sans Mono',consolas,'Courier New',monospace\"><span style=\"font-weight: bold\">Model: \"sequential_1\"</span>\n",
       "</pre>\n"
      ],
      "text/plain": [
       "\u001b[1mModel: \"sequential_1\"\u001b[0m\n"
      ]
     },
     "metadata": {},
     "output_type": "display_data"
    },
    {
     "data": {
      "text/html": [
       "<pre style=\"white-space:pre;overflow-x:auto;line-height:normal;font-family:Menlo,'DejaVu Sans Mono',consolas,'Courier New',monospace\">┏━━━━━━━━━━━━━━━━━━━━━━━━━━━━━━━━━┳━━━━━━━━━━━━━━━━━━━━━━━━┳━━━━━━━━━━━━━━━┓\n",
       "┃<span style=\"font-weight: bold\"> Layer (type)                    </span>┃<span style=\"font-weight: bold\"> Output Shape           </span>┃<span style=\"font-weight: bold\">       Param # </span>┃\n",
       "┡━━━━━━━━━━━━━━━━━━━━━━━━━━━━━━━━━╇━━━━━━━━━━━━━━━━━━━━━━━━╇━━━━━━━━━━━━━━━┩\n",
       "│ conv2d_3 (<span style=\"color: #0087ff; text-decoration-color: #0087ff\">Conv2D</span>)               │ (<span style=\"color: #00d7ff; text-decoration-color: #00d7ff\">None</span>, <span style=\"color: #00af00; text-decoration-color: #00af00\">126</span>, <span style=\"color: #00af00; text-decoration-color: #00af00\">126</span>, <span style=\"color: #00af00; text-decoration-color: #00af00\">6</span>)    │           <span style=\"color: #00af00; text-decoration-color: #00af00\">168</span> │\n",
       "├─────────────────────────────────┼────────────────────────┼───────────────┤\n",
       "│ average_pooling2d               │ (<span style=\"color: #00d7ff; text-decoration-color: #00d7ff\">None</span>, <span style=\"color: #00af00; text-decoration-color: #00af00\">63</span>, <span style=\"color: #00af00; text-decoration-color: #00af00\">63</span>, <span style=\"color: #00af00; text-decoration-color: #00af00\">6</span>)      │             <span style=\"color: #00af00; text-decoration-color: #00af00\">0</span> │\n",
       "│ (<span style=\"color: #0087ff; text-decoration-color: #0087ff\">AveragePooling2D</span>)              │                        │               │\n",
       "├─────────────────────────────────┼────────────────────────┼───────────────┤\n",
       "│ conv2d_4 (<span style=\"color: #0087ff; text-decoration-color: #0087ff\">Conv2D</span>)               │ (<span style=\"color: #00d7ff; text-decoration-color: #00d7ff\">None</span>, <span style=\"color: #00af00; text-decoration-color: #00af00\">61</span>, <span style=\"color: #00af00; text-decoration-color: #00af00\">61</span>, <span style=\"color: #00af00; text-decoration-color: #00af00\">16</span>)     │           <span style=\"color: #00af00; text-decoration-color: #00af00\">880</span> │\n",
       "├─────────────────────────────────┼────────────────────────┼───────────────┤\n",
       "│ average_pooling2d_1             │ (<span style=\"color: #00d7ff; text-decoration-color: #00d7ff\">None</span>, <span style=\"color: #00af00; text-decoration-color: #00af00\">30</span>, <span style=\"color: #00af00; text-decoration-color: #00af00\">30</span>, <span style=\"color: #00af00; text-decoration-color: #00af00\">16</span>)     │             <span style=\"color: #00af00; text-decoration-color: #00af00\">0</span> │\n",
       "│ (<span style=\"color: #0087ff; text-decoration-color: #0087ff\">AveragePooling2D</span>)              │                        │               │\n",
       "├─────────────────────────────────┼────────────────────────┼───────────────┤\n",
       "│ flatten_1 (<span style=\"color: #0087ff; text-decoration-color: #0087ff\">Flatten</span>)             │ (<span style=\"color: #00d7ff; text-decoration-color: #00d7ff\">None</span>, <span style=\"color: #00af00; text-decoration-color: #00af00\">14400</span>)          │             <span style=\"color: #00af00; text-decoration-color: #00af00\">0</span> │\n",
       "├─────────────────────────────────┼────────────────────────┼───────────────┤\n",
       "│ dense_3 (<span style=\"color: #0087ff; text-decoration-color: #0087ff\">Dense</span>)                 │ (<span style=\"color: #00d7ff; text-decoration-color: #00d7ff\">None</span>, <span style=\"color: #00af00; text-decoration-color: #00af00\">120</span>)            │     <span style=\"color: #00af00; text-decoration-color: #00af00\">1,728,120</span> │\n",
       "├─────────────────────────────────┼────────────────────────┼───────────────┤\n",
       "│ dense_4 (<span style=\"color: #0087ff; text-decoration-color: #0087ff\">Dense</span>)                 │ (<span style=\"color: #00d7ff; text-decoration-color: #00d7ff\">None</span>, <span style=\"color: #00af00; text-decoration-color: #00af00\">84</span>)             │        <span style=\"color: #00af00; text-decoration-color: #00af00\">10,164</span> │\n",
       "├─────────────────────────────────┼────────────────────────┼───────────────┤\n",
       "│ dense_5 (<span style=\"color: #0087ff; text-decoration-color: #0087ff\">Dense</span>)                 │ (<span style=\"color: #00d7ff; text-decoration-color: #00d7ff\">None</span>, <span style=\"color: #00af00; text-decoration-color: #00af00\">3</span>)              │           <span style=\"color: #00af00; text-decoration-color: #00af00\">255</span> │\n",
       "└─────────────────────────────────┴────────────────────────┴───────────────┘\n",
       "</pre>\n"
      ],
      "text/plain": [
       "┏━━━━━━━━━━━━━━━━━━━━━━━━━━━━━━━━━┳━━━━━━━━━━━━━━━━━━━━━━━━┳━━━━━━━━━━━━━━━┓\n",
       "┃\u001b[1m \u001b[0m\u001b[1mLayer (type)                   \u001b[0m\u001b[1m \u001b[0m┃\u001b[1m \u001b[0m\u001b[1mOutput Shape          \u001b[0m\u001b[1m \u001b[0m┃\u001b[1m \u001b[0m\u001b[1m      Param #\u001b[0m\u001b[1m \u001b[0m┃\n",
       "┡━━━━━━━━━━━━━━━━━━━━━━━━━━━━━━━━━╇━━━━━━━━━━━━━━━━━━━━━━━━╇━━━━━━━━━━━━━━━┩\n",
       "│ conv2d_3 (\u001b[38;5;33mConv2D\u001b[0m)               │ (\u001b[38;5;45mNone\u001b[0m, \u001b[38;5;34m126\u001b[0m, \u001b[38;5;34m126\u001b[0m, \u001b[38;5;34m6\u001b[0m)    │           \u001b[38;5;34m168\u001b[0m │\n",
       "├─────────────────────────────────┼────────────────────────┼───────────────┤\n",
       "│ average_pooling2d               │ (\u001b[38;5;45mNone\u001b[0m, \u001b[38;5;34m63\u001b[0m, \u001b[38;5;34m63\u001b[0m, \u001b[38;5;34m6\u001b[0m)      │             \u001b[38;5;34m0\u001b[0m │\n",
       "│ (\u001b[38;5;33mAveragePooling2D\u001b[0m)              │                        │               │\n",
       "├─────────────────────────────────┼────────────────────────┼───────────────┤\n",
       "│ conv2d_4 (\u001b[38;5;33mConv2D\u001b[0m)               │ (\u001b[38;5;45mNone\u001b[0m, \u001b[38;5;34m61\u001b[0m, \u001b[38;5;34m61\u001b[0m, \u001b[38;5;34m16\u001b[0m)     │           \u001b[38;5;34m880\u001b[0m │\n",
       "├─────────────────────────────────┼────────────────────────┼───────────────┤\n",
       "│ average_pooling2d_1             │ (\u001b[38;5;45mNone\u001b[0m, \u001b[38;5;34m30\u001b[0m, \u001b[38;5;34m30\u001b[0m, \u001b[38;5;34m16\u001b[0m)     │             \u001b[38;5;34m0\u001b[0m │\n",
       "│ (\u001b[38;5;33mAveragePooling2D\u001b[0m)              │                        │               │\n",
       "├─────────────────────────────────┼────────────────────────┼───────────────┤\n",
       "│ flatten_1 (\u001b[38;5;33mFlatten\u001b[0m)             │ (\u001b[38;5;45mNone\u001b[0m, \u001b[38;5;34m14400\u001b[0m)          │             \u001b[38;5;34m0\u001b[0m │\n",
       "├─────────────────────────────────┼────────────────────────┼───────────────┤\n",
       "│ dense_3 (\u001b[38;5;33mDense\u001b[0m)                 │ (\u001b[38;5;45mNone\u001b[0m, \u001b[38;5;34m120\u001b[0m)            │     \u001b[38;5;34m1,728,120\u001b[0m │\n",
       "├─────────────────────────────────┼────────────────────────┼───────────────┤\n",
       "│ dense_4 (\u001b[38;5;33mDense\u001b[0m)                 │ (\u001b[38;5;45mNone\u001b[0m, \u001b[38;5;34m84\u001b[0m)             │        \u001b[38;5;34m10,164\u001b[0m │\n",
       "├─────────────────────────────────┼────────────────────────┼───────────────┤\n",
       "│ dense_5 (\u001b[38;5;33mDense\u001b[0m)                 │ (\u001b[38;5;45mNone\u001b[0m, \u001b[38;5;34m3\u001b[0m)              │           \u001b[38;5;34m255\u001b[0m │\n",
       "└─────────────────────────────────┴────────────────────────┴───────────────┘\n"
      ]
     },
     "metadata": {},
     "output_type": "display_data"
    },
    {
     "data": {
      "text/html": [
       "<pre style=\"white-space:pre;overflow-x:auto;line-height:normal;font-family:Menlo,'DejaVu Sans Mono',consolas,'Courier New',monospace\"><span style=\"font-weight: bold\"> Total params: </span><span style=\"color: #00af00; text-decoration-color: #00af00\">1,739,587</span> (6.64 MB)\n",
       "</pre>\n"
      ],
      "text/plain": [
       "\u001b[1m Total params: \u001b[0m\u001b[38;5;34m1,739,587\u001b[0m (6.64 MB)\n"
      ]
     },
     "metadata": {},
     "output_type": "display_data"
    },
    {
     "data": {
      "text/html": [
       "<pre style=\"white-space:pre;overflow-x:auto;line-height:normal;font-family:Menlo,'DejaVu Sans Mono',consolas,'Courier New',monospace\"><span style=\"font-weight: bold\"> Trainable params: </span><span style=\"color: #00af00; text-decoration-color: #00af00\">1,739,587</span> (6.64 MB)\n",
       "</pre>\n"
      ],
      "text/plain": [
       "\u001b[1m Trainable params: \u001b[0m\u001b[38;5;34m1,739,587\u001b[0m (6.64 MB)\n"
      ]
     },
     "metadata": {},
     "output_type": "display_data"
    },
    {
     "data": {
      "text/html": [
       "<pre style=\"white-space:pre;overflow-x:auto;line-height:normal;font-family:Menlo,'DejaVu Sans Mono',consolas,'Courier New',monospace\"><span style=\"font-weight: bold\"> Non-trainable params: </span><span style=\"color: #00af00; text-decoration-color: #00af00\">0</span> (0.00 B)\n",
       "</pre>\n"
      ],
      "text/plain": [
       "\u001b[1m Non-trainable params: \u001b[0m\u001b[38;5;34m0\u001b[0m (0.00 B)\n"
      ]
     },
     "metadata": {},
     "output_type": "display_data"
    }
   ],
   "source": [
    "from keras import layers\n",
    "from keras import models\n",
    "import pandas as pd\n",
    "\n",
    "model_lenet5 = models.Sequential()\n",
    "\n",
    "# Layer 1: Convolutional layer with 6 filters of size 3x3, followed by average pooling\n",
    "model_lenet5.add(layers.Conv2D(6, kernel_size=(3, 3), activation='relu', input_shape=(128,128,3)))\n",
    "model_lenet5.add(layers.AveragePooling2D(pool_size=(2, 2)))\n",
    "\n",
    "# Layer 2: Convolutional layer with 16 filters of size 3x3, followed by average pooling\n",
    "model_lenet5.add(layers.Conv2D(16, kernel_size=(3, 3), activation='relu'))\n",
    "model_lenet5.add(layers.AveragePooling2D(pool_size=(2, 2)))\n",
    "\n",
    "# Flatten the feature maps to feed into fully connected layers\n",
    "# which layer\n",
    "model_lenet5.add(layers.Flatten())\n",
    "\n",
    "# Layer 3: Fully connected layer with 120 neurons\n",
    "model_lenet5.add(layers.Dense(120, activation='relu'))\n",
    "\n",
    "# Layer 4: Fully connected layer with 84 neurons\n",
    "model_lenet5.add(layers.Dense(84, activation='relu'))\n",
    "\n",
    "# Output layer: Fully connected layer with num_classes neurons (e.g., 3 )\n",
    "model_lenet5.add(layers.Dense(3, activation='softmax'))\n",
    "\n",
    "# Compile model\n",
    "model_lenet5.compile(optimizer=optimizers.RMSprop(learning_rate=1e-4), loss='sparse_categorical_crossentropy', metrics=['accuracy'])\n",
    "\n",
    "# Generating the summary of the model\n",
    "model_lenet5.summary()"
   ]
  },
  {
   "cell_type": "code",
   "execution_count": 28,
   "id": "2c7db40b-5dd2-427a-8e14-b7703e900126",
   "metadata": {},
   "outputs": [
    {
     "name": "stdout",
     "output_type": "stream",
     "text": [
      "Epoch 1/20\n",
      "\u001b[1m427/427\u001b[0m \u001b[32m━━━━━━━━━━━━━━━━━━━━\u001b[0m\u001b[37m\u001b[0m \u001b[1m21s\u001b[0m 49ms/step - accuracy: 0.6626 - loss: 0.6904 - val_accuracy: 0.6693 - val_loss: 0.6237\n",
      "Epoch 2/20\n",
      "\u001b[1m427/427\u001b[0m \u001b[32m━━━━━━━━━━━━━━━━━━━━\u001b[0m\u001b[37m\u001b[0m \u001b[1m20s\u001b[0m 48ms/step - accuracy: 0.7604 - loss: 0.5114 - val_accuracy: 0.8358 - val_loss: 0.4353\n",
      "Epoch 3/20\n",
      "\u001b[1m427/427\u001b[0m \u001b[32m━━━━━━━━━━━━━━━━━━━━\u001b[0m\u001b[37m\u001b[0m \u001b[1m22s\u001b[0m 51ms/step - accuracy: 0.8143 - loss: 0.4267 - val_accuracy: 0.8229 - val_loss: 0.3934\n",
      "Epoch 4/20\n",
      "\u001b[1m427/427\u001b[0m \u001b[32m━━━━━━━━━━━━━━━━━━━━\u001b[0m\u001b[37m\u001b[0m \u001b[1m21s\u001b[0m 48ms/step - accuracy: 0.8353 - loss: 0.3822 - val_accuracy: 0.8091 - val_loss: 0.4406\n",
      "Epoch 5/20\n",
      "\u001b[1m427/427\u001b[0m \u001b[32m━━━━━━━━━━━━━━━━━━━━\u001b[0m\u001b[37m\u001b[0m \u001b[1m20s\u001b[0m 47ms/step - accuracy: 0.8531 - loss: 0.3410 - val_accuracy: 0.8396 - val_loss: 0.3663\n",
      "Epoch 6/20\n",
      "\u001b[1m427/427\u001b[0m \u001b[32m━━━━━━━━━━━━━━━━━━━━\u001b[0m\u001b[37m\u001b[0m \u001b[1m21s\u001b[0m 48ms/step - accuracy: 0.8674 - loss: 0.3098 - val_accuracy: 0.7933 - val_loss: 0.4491\n",
      "Epoch 7/20\n",
      "\u001b[1m427/427\u001b[0m \u001b[32m━━━━━━━━━━━━━━━━━━━━\u001b[0m\u001b[37m\u001b[0m \u001b[1m21s\u001b[0m 49ms/step - accuracy: 0.8752 - loss: 0.2910 - val_accuracy: 0.8839 - val_loss: 0.2928\n",
      "Epoch 8/20\n",
      "\u001b[1m427/427\u001b[0m \u001b[32m━━━━━━━━━━━━━━━━━━━━\u001b[0m\u001b[37m\u001b[0m \u001b[1m21s\u001b[0m 49ms/step - accuracy: 0.8920 - loss: 0.2667 - val_accuracy: 0.8675 - val_loss: 0.3202\n",
      "Epoch 9/20\n",
      "\u001b[1m427/427\u001b[0m \u001b[32m━━━━━━━━━━━━━━━━━━━━\u001b[0m\u001b[37m\u001b[0m \u001b[1m22s\u001b[0m 51ms/step - accuracy: 0.8992 - loss: 0.2512 - val_accuracy: 0.8810 - val_loss: 0.2797\n",
      "Epoch 10/20\n",
      "\u001b[1m427/427\u001b[0m \u001b[32m━━━━━━━━━━━━━━━━━━━━\u001b[0m\u001b[37m\u001b[0m \u001b[1m21s\u001b[0m 49ms/step - accuracy: 0.9021 - loss: 0.2356 - val_accuracy: 0.8739 - val_loss: 0.3187\n",
      "Epoch 11/20\n",
      "\u001b[1m427/427\u001b[0m \u001b[32m━━━━━━━━━━━━━━━━━━━━\u001b[0m\u001b[37m\u001b[0m \u001b[1m21s\u001b[0m 49ms/step - accuracy: 0.9095 - loss: 0.2267 - val_accuracy: 0.8989 - val_loss: 0.2485\n",
      "Epoch 12/20\n",
      "\u001b[1m427/427\u001b[0m \u001b[32m━━━━━━━━━━━━━━━━━━━━\u001b[0m\u001b[37m\u001b[0m \u001b[1m21s\u001b[0m 49ms/step - accuracy: 0.9167 - loss: 0.2170 - val_accuracy: 0.8080 - val_loss: 0.4345\n",
      "Epoch 13/20\n",
      "\u001b[1m427/427\u001b[0m \u001b[32m━━━━━━━━━━━━━━━━━━━━\u001b[0m\u001b[37m\u001b[0m \u001b[1m21s\u001b[0m 49ms/step - accuracy: 0.9198 - loss: 0.2051 - val_accuracy: 0.8909 - val_loss: 0.2911\n",
      "Epoch 14/20\n",
      "\u001b[1m427/427\u001b[0m \u001b[32m━━━━━━━━━━━━━━━━━━━━\u001b[0m\u001b[37m\u001b[0m \u001b[1m21s\u001b[0m 49ms/step - accuracy: 0.9210 - loss: 0.1962 - val_accuracy: 0.8921 - val_loss: 0.2536\n",
      "Epoch 15/20\n",
      "\u001b[1m427/427\u001b[0m \u001b[32m━━━━━━━━━━━━━━━━━━━━\u001b[0m\u001b[37m\u001b[0m \u001b[1m21s\u001b[0m 49ms/step - accuracy: 0.9232 - loss: 0.1853 - val_accuracy: 0.9138 - val_loss: 0.2269\n",
      "Epoch 16/20\n",
      "\u001b[1m427/427\u001b[0m \u001b[32m━━━━━━━━━━━━━━━━━━━━\u001b[0m\u001b[37m\u001b[0m \u001b[1m21s\u001b[0m 49ms/step - accuracy: 0.9330 - loss: 0.1777 - val_accuracy: 0.9129 - val_loss: 0.2168\n",
      "Epoch 17/20\n",
      "\u001b[1m427/427\u001b[0m \u001b[32m━━━━━━━━━━━━━━━━━━━━\u001b[0m\u001b[37m\u001b[0m \u001b[1m21s\u001b[0m 48ms/step - accuracy: 0.9313 - loss: 0.1704 - val_accuracy: 0.9056 - val_loss: 0.2273\n",
      "Epoch 18/20\n",
      "\u001b[1m427/427\u001b[0m \u001b[32m━━━━━━━━━━━━━━━━━━━━\u001b[0m\u001b[37m\u001b[0m \u001b[1m21s\u001b[0m 48ms/step - accuracy: 0.9338 - loss: 0.1619 - val_accuracy: 0.9197 - val_loss: 0.2135\n",
      "Epoch 19/20\n",
      "\u001b[1m427/427\u001b[0m \u001b[32m━━━━━━━━━━━━━━━━━━━━\u001b[0m\u001b[37m\u001b[0m \u001b[1m21s\u001b[0m 48ms/step - accuracy: 0.9397 - loss: 0.1560 - val_accuracy: 0.9261 - val_loss: 0.1941\n",
      "Epoch 20/20\n",
      "\u001b[1m427/427\u001b[0m \u001b[32m━━━━━━━━━━━━━━━━━━━━\u001b[0m\u001b[37m\u001b[0m \u001b[1m21s\u001b[0m 49ms/step - accuracy: 0.9423 - loss: 0.1464 - val_accuracy: 0.9247 - val_loss: 0.1989\n"
     ]
    }
   ],
   "source": [
    "# fit the model from image generator\n",
    "history = model_lenet5.fit(\n",
    "            train_rescale_ds,\n",
    "            batch_size=32,\n",
    "            epochs=20,\n",
    "            validation_data=val_rescale_ds\n",
    ")"
   ]
  },
  {
   "cell_type": "code",
   "execution_count": 29,
   "id": "1c021854-8543-4b3d-bfab-65747b90ae0d",
   "metadata": {},
   "outputs": [
    {
     "data": {
      "text/plain": [
       "0.9254571199417114"
      ]
     },
     "execution_count": 29,
     "metadata": {},
     "output_type": "execute_result"
    }
   ],
   "source": [
    "test_loss, test_accuracy = model_lenet5.evaluate(test_rescale_ds, verbose=0)\n",
    "test_accuracy"
   ]
  },
  {
   "cell_type": "code",
   "execution_count": 30,
   "id": "9eec3620-8118-4360-8b61-fffff59e6991",
   "metadata": {},
   "outputs": [],
   "source": [
    "# Alternate - Lenet - 5"
   ]
  },
  {
   "cell_type": "code",
   "execution_count": 50,
   "id": "1f78b576-b103-42e1-88f9-170d94f49de2",
   "metadata": {},
   "outputs": [
    {
     "data": {
      "text/html": [
       "<pre style=\"white-space:pre;overflow-x:auto;line-height:normal;font-family:Menlo,'DejaVu Sans Mono',consolas,'Courier New',monospace\"><span style=\"font-weight: bold\">Model: \"sequential_3\"</span>\n",
       "</pre>\n"
      ],
      "text/plain": [
       "\u001b[1mModel: \"sequential_3\"\u001b[0m\n"
      ]
     },
     "metadata": {},
     "output_type": "display_data"
    },
    {
     "data": {
      "text/html": [
       "<pre style=\"white-space:pre;overflow-x:auto;line-height:normal;font-family:Menlo,'DejaVu Sans Mono',consolas,'Courier New',monospace\">┏━━━━━━━━━━━━━━━━━━━━━━━━━━━━━━━━━┳━━━━━━━━━━━━━━━━━━━━━━━━┳━━━━━━━━━━━━━━━┓\n",
       "┃<span style=\"font-weight: bold\"> Layer (type)                    </span>┃<span style=\"font-weight: bold\"> Output Shape           </span>┃<span style=\"font-weight: bold\">       Param # </span>┃\n",
       "┡━━━━━━━━━━━━━━━━━━━━━━━━━━━━━━━━━╇━━━━━━━━━━━━━━━━━━━━━━━━╇━━━━━━━━━━━━━━━┩\n",
       "│ conv2d_7 (<span style=\"color: #0087ff; text-decoration-color: #0087ff\">Conv2D</span>)               │ (<span style=\"color: #00d7ff; text-decoration-color: #00d7ff\">None</span>, <span style=\"color: #00af00; text-decoration-color: #00af00\">126</span>, <span style=\"color: #00af00; text-decoration-color: #00af00\">126</span>, <span style=\"color: #00af00; text-decoration-color: #00af00\">32</span>)   │           <span style=\"color: #00af00; text-decoration-color: #00af00\">896</span> │\n",
       "├─────────────────────────────────┼────────────────────────┼───────────────┤\n",
       "│ max_pooling2d_5 (<span style=\"color: #0087ff; text-decoration-color: #0087ff\">MaxPooling2D</span>)  │ (<span style=\"color: #00d7ff; text-decoration-color: #00d7ff\">None</span>, <span style=\"color: #00af00; text-decoration-color: #00af00\">63</span>, <span style=\"color: #00af00; text-decoration-color: #00af00\">63</span>, <span style=\"color: #00af00; text-decoration-color: #00af00\">32</span>)     │             <span style=\"color: #00af00; text-decoration-color: #00af00\">0</span> │\n",
       "├─────────────────────────────────┼────────────────────────┼───────────────┤\n",
       "│ conv2d_8 (<span style=\"color: #0087ff; text-decoration-color: #0087ff\">Conv2D</span>)               │ (<span style=\"color: #00d7ff; text-decoration-color: #00d7ff\">None</span>, <span style=\"color: #00af00; text-decoration-color: #00af00\">61</span>, <span style=\"color: #00af00; text-decoration-color: #00af00\">61</span>, <span style=\"color: #00af00; text-decoration-color: #00af00\">64</span>)     │        <span style=\"color: #00af00; text-decoration-color: #00af00\">18,496</span> │\n",
       "├─────────────────────────────────┼────────────────────────┼───────────────┤\n",
       "│ max_pooling2d_6 (<span style=\"color: #0087ff; text-decoration-color: #0087ff\">MaxPooling2D</span>)  │ (<span style=\"color: #00d7ff; text-decoration-color: #00d7ff\">None</span>, <span style=\"color: #00af00; text-decoration-color: #00af00\">30</span>, <span style=\"color: #00af00; text-decoration-color: #00af00\">30</span>, <span style=\"color: #00af00; text-decoration-color: #00af00\">64</span>)     │             <span style=\"color: #00af00; text-decoration-color: #00af00\">0</span> │\n",
       "├─────────────────────────────────┼────────────────────────┼───────────────┤\n",
       "│ flatten_3 (<span style=\"color: #0087ff; text-decoration-color: #0087ff\">Flatten</span>)             │ (<span style=\"color: #00d7ff; text-decoration-color: #00d7ff\">None</span>, <span style=\"color: #00af00; text-decoration-color: #00af00\">57600</span>)          │             <span style=\"color: #00af00; text-decoration-color: #00af00\">0</span> │\n",
       "├─────────────────────────────────┼────────────────────────┼───────────────┤\n",
       "│ dense_9 (<span style=\"color: #0087ff; text-decoration-color: #0087ff\">Dense</span>)                 │ (<span style=\"color: #00d7ff; text-decoration-color: #00d7ff\">None</span>, <span style=\"color: #00af00; text-decoration-color: #00af00\">256</span>)            │    <span style=\"color: #00af00; text-decoration-color: #00af00\">14,745,856</span> │\n",
       "├─────────────────────────────────┼────────────────────────┼───────────────┤\n",
       "│ dense_10 (<span style=\"color: #0087ff; text-decoration-color: #0087ff\">Dense</span>)                │ (<span style=\"color: #00d7ff; text-decoration-color: #00d7ff\">None</span>, <span style=\"color: #00af00; text-decoration-color: #00af00\">128</span>)            │        <span style=\"color: #00af00; text-decoration-color: #00af00\">32,896</span> │\n",
       "├─────────────────────────────────┼────────────────────────┼───────────────┤\n",
       "│ dense_11 (<span style=\"color: #0087ff; text-decoration-color: #0087ff\">Dense</span>)                │ (<span style=\"color: #00d7ff; text-decoration-color: #00d7ff\">None</span>, <span style=\"color: #00af00; text-decoration-color: #00af00\">1</span>)              │           <span style=\"color: #00af00; text-decoration-color: #00af00\">129</span> │\n",
       "└─────────────────────────────────┴────────────────────────┴───────────────┘\n",
       "</pre>\n"
      ],
      "text/plain": [
       "┏━━━━━━━━━━━━━━━━━━━━━━━━━━━━━━━━━┳━━━━━━━━━━━━━━━━━━━━━━━━┳━━━━━━━━━━━━━━━┓\n",
       "┃\u001b[1m \u001b[0m\u001b[1mLayer (type)                   \u001b[0m\u001b[1m \u001b[0m┃\u001b[1m \u001b[0m\u001b[1mOutput Shape          \u001b[0m\u001b[1m \u001b[0m┃\u001b[1m \u001b[0m\u001b[1m      Param #\u001b[0m\u001b[1m \u001b[0m┃\n",
       "┡━━━━━━━━━━━━━━━━━━━━━━━━━━━━━━━━━╇━━━━━━━━━━━━━━━━━━━━━━━━╇━━━━━━━━━━━━━━━┩\n",
       "│ conv2d_7 (\u001b[38;5;33mConv2D\u001b[0m)               │ (\u001b[38;5;45mNone\u001b[0m, \u001b[38;5;34m126\u001b[0m, \u001b[38;5;34m126\u001b[0m, \u001b[38;5;34m32\u001b[0m)   │           \u001b[38;5;34m896\u001b[0m │\n",
       "├─────────────────────────────────┼────────────────────────┼───────────────┤\n",
       "│ max_pooling2d_5 (\u001b[38;5;33mMaxPooling2D\u001b[0m)  │ (\u001b[38;5;45mNone\u001b[0m, \u001b[38;5;34m63\u001b[0m, \u001b[38;5;34m63\u001b[0m, \u001b[38;5;34m32\u001b[0m)     │             \u001b[38;5;34m0\u001b[0m │\n",
       "├─────────────────────────────────┼────────────────────────┼───────────────┤\n",
       "│ conv2d_8 (\u001b[38;5;33mConv2D\u001b[0m)               │ (\u001b[38;5;45mNone\u001b[0m, \u001b[38;5;34m61\u001b[0m, \u001b[38;5;34m61\u001b[0m, \u001b[38;5;34m64\u001b[0m)     │        \u001b[38;5;34m18,496\u001b[0m │\n",
       "├─────────────────────────────────┼────────────────────────┼───────────────┤\n",
       "│ max_pooling2d_6 (\u001b[38;5;33mMaxPooling2D\u001b[0m)  │ (\u001b[38;5;45mNone\u001b[0m, \u001b[38;5;34m30\u001b[0m, \u001b[38;5;34m30\u001b[0m, \u001b[38;5;34m64\u001b[0m)     │             \u001b[38;5;34m0\u001b[0m │\n",
       "├─────────────────────────────────┼────────────────────────┼───────────────┤\n",
       "│ flatten_3 (\u001b[38;5;33mFlatten\u001b[0m)             │ (\u001b[38;5;45mNone\u001b[0m, \u001b[38;5;34m57600\u001b[0m)          │             \u001b[38;5;34m0\u001b[0m │\n",
       "├─────────────────────────────────┼────────────────────────┼───────────────┤\n",
       "│ dense_9 (\u001b[38;5;33mDense\u001b[0m)                 │ (\u001b[38;5;45mNone\u001b[0m, \u001b[38;5;34m256\u001b[0m)            │    \u001b[38;5;34m14,745,856\u001b[0m │\n",
       "├─────────────────────────────────┼────────────────────────┼───────────────┤\n",
       "│ dense_10 (\u001b[38;5;33mDense\u001b[0m)                │ (\u001b[38;5;45mNone\u001b[0m, \u001b[38;5;34m128\u001b[0m)            │        \u001b[38;5;34m32,896\u001b[0m │\n",
       "├─────────────────────────────────┼────────────────────────┼───────────────┤\n",
       "│ dense_11 (\u001b[38;5;33mDense\u001b[0m)                │ (\u001b[38;5;45mNone\u001b[0m, \u001b[38;5;34m1\u001b[0m)              │           \u001b[38;5;34m129\u001b[0m │\n",
       "└─────────────────────────────────┴────────────────────────┴───────────────┘\n"
      ]
     },
     "metadata": {},
     "output_type": "display_data"
    },
    {
     "data": {
      "text/html": [
       "<pre style=\"white-space:pre;overflow-x:auto;line-height:normal;font-family:Menlo,'DejaVu Sans Mono',consolas,'Courier New',monospace\"><span style=\"font-weight: bold\"> Total params: </span><span style=\"color: #00af00; text-decoration-color: #00af00\">14,798,273</span> (56.45 MB)\n",
       "</pre>\n"
      ],
      "text/plain": [
       "\u001b[1m Total params: \u001b[0m\u001b[38;5;34m14,798,273\u001b[0m (56.45 MB)\n"
      ]
     },
     "metadata": {},
     "output_type": "display_data"
    },
    {
     "data": {
      "text/html": [
       "<pre style=\"white-space:pre;overflow-x:auto;line-height:normal;font-family:Menlo,'DejaVu Sans Mono',consolas,'Courier New',monospace\"><span style=\"font-weight: bold\"> Trainable params: </span><span style=\"color: #00af00; text-decoration-color: #00af00\">14,798,273</span> (56.45 MB)\n",
       "</pre>\n"
      ],
      "text/plain": [
       "\u001b[1m Trainable params: \u001b[0m\u001b[38;5;34m14,798,273\u001b[0m (56.45 MB)\n"
      ]
     },
     "metadata": {},
     "output_type": "display_data"
    },
    {
     "data": {
      "text/html": [
       "<pre style=\"white-space:pre;overflow-x:auto;line-height:normal;font-family:Menlo,'DejaVu Sans Mono',consolas,'Courier New',monospace\"><span style=\"font-weight: bold\"> Non-trainable params: </span><span style=\"color: #00af00; text-decoration-color: #00af00\">0</span> (0.00 B)\n",
       "</pre>\n"
      ],
      "text/plain": [
       "\u001b[1m Non-trainable params: \u001b[0m\u001b[38;5;34m0\u001b[0m (0.00 B)\n"
      ]
     },
     "metadata": {},
     "output_type": "display_data"
    }
   ],
   "source": [
    "from keras import layers, models, optimizers\n",
    "\n",
    "model_lenet5 = models.Sequential()\n",
    "\n",
    "# Layer 1: Convolutional layer with 32 filters of size 3x3 (modified from 6 filters)\n",
    "model_lenet5.add(layers.Conv2D(32, kernel_size=(3, 3), activation='relu', input_shape=(128, 128, 3)))  # Modified: Increased filters\n",
    "model_lenet5.add(layers.MaxPooling2D(pool_size=(2, 2)))  # Modified: Changed average pooling to max pooling\n",
    "\n",
    "# Layer 2: Convolutional layer with 64 filters of size 3x3 (modified from 16 filters)\n",
    "model_lenet5.add(layers.Conv2D(64, kernel_size=(3, 3), activation='relu'))  # Modified: Increased filters\n",
    "model_lenet5.add(layers.MaxPooling2D(pool_size=(2, 2)))  # Modified: Changed average pooling to max pooling\n",
    "\n",
    "# Flatten the feature maps to feed into fully connected layers\n",
    "model_lenet5.add(layers.Flatten())\n",
    "\n",
    "# Layer 3: Fully connected layer with 256 neurons (modified from 120 neurons)\n",
    "model_lenet5.add(layers.Dense(256, activation='relu'))  # Modified: Increased number of neurons\n",
    "\n",
    "# Layer 4: Fully connected layer with 128 neurons (modified from 84 neurons)\n",
    "model_lenet5.add(layers.Dense(128, activation='relu'))  # Modified: Increased number of neurons\n",
    "\n",
    "# Output layer: Fully connected layer with 1 neuron (for binary classification, sigmoid activation)\n",
    "# If multi-class classification, change to the number of classes (e.g., 3 or more)\n",
    "model_lenet5.add(layers.Dense(1, activation='sigmoid'))  # Modified: Binary classification with sigmoid activation\n",
    "\n",
    "# Compile model\n",
    "model_lenet5.compile(optimizer=optimizers.RMSprop(learning_rate=1e-4), loss='binary_crossentropy', metrics=['accuracy'])  # Modified loss for binary classification\n",
    "\n",
    "# Generating the summary of the model\n",
    "model_lenet5.summary()\n"
   ]
  },
  {
   "cell_type": "code",
   "execution_count": 32,
   "id": "7d5f4592-0312-42df-b65a-5d6f305d3f78",
   "metadata": {},
   "outputs": [],
   "source": [
    "# import tensorflow as tf\n",
    "# from tensorflow.keras import layers, models, optimizers\n",
    "# from tensorflow.keras.preprocessing.image import ImageDataGenerator\n",
    "\n",
    "# # Paths to your train and test directories\n",
    "# train_data_dir = 'path_to_train_data'  # Train data path (should have 'damaged' and 'undamaged' subdirectories) ---------\n",
    "# test_data_dir = 'path_to_test_data'    # Test data path (should have 'damaged' and 'undamaged' subdirectories) -----------\n",
    "\n",
    "\n",
    "# # Data Augmentation and Preprocessing for already scaled data\n",
    "# train_datagen = ImageDataGenerator(\n",
    "#     # No rescaling, assuming data is already in [0, 1]\n",
    "#     rotation_range=40,  # Random rotations for augmentation\n",
    "#     width_shift_range=0.2,  # Horizontal shifts\n",
    "#     height_shift_range=0.2,  # Vertical shifts\n",
    "#     shear_range=0.2,  # Shear transformations\n",
    "#     zoom_range=0.2,  # Zoom in/out\n",
    "#     horizontal_flip=True,  # Randomly flip images horizontally\n",
    "#     fill_mode='nearest'  # Fill in missing pixels from transformations\n",
    "# )\n",
    "\n",
    "# test_datagen = ImageDataGenerator()  # No rescaling, assuming test data is also [0, 1]\n",
    "\n",
    "# # Load the training and test datasets using the flow_from_directory method\n",
    "# train_generator = train_datagen.flow_from_directory(\n",
    "#     train_data_dir,\n",
    "#     target_size=(128, 128),  # Resize images to 128x128\n",
    "#     batch_size=32,\n",
    "#     class_mode='binary'  # Binary classification (damaged vs. undamaged)\n",
    "# )\n",
    "\n",
    "# test_generator = test_datagen.flow_from_directory(\n",
    "#     test_data_dir,\n",
    "#     target_size=(128, 128),  # Resize images to 128x128\n",
    "#     batch_size=32,\n",
    "#     class_mode='binary'  # Binary classification\n",
    "# )\n",
    "\n",
    "\n",
    "# # Model Architecture: Modified LeNet-5 Approach\n",
    "# model_cnn = models.Sequential()\n",
    "\n",
    "# # First Convolutional Layer: 32 filters, 5x5 kernel, ReLU activation\n",
    "# model_cnn.add(layers.Conv2D(32, (5, 5), activation='relu', padding='same', input_shape=(128, 128, 3)))\n",
    "\n",
    "# # MaxPooling Layer: 2x2 pool size\n",
    "# model_cnn.add(layers.MaxPooling2D((2, 2), padding='same'))\n",
    "\n",
    "# # Second Convolutional Layer: 64 filters, 5x5 kernel, ReLU activation\n",
    "# model_cnn.add(layers.Conv2D(64, (5, 5), activation='relu', padding='same'))\n",
    "\n",
    "# # MaxPooling Layer: 2x2 pool size\n",
    "# model_cnn.add(layers.MaxPooling2D((2, 2), padding='same'))\n",
    "\n",
    "# # Flatten the output for the fully connected layer\n",
    "# model_cnn.add(layers.Flatten())\n",
    "\n",
    "# # Fully Connected Layer: 120 neurons, ReLU activation\n",
    "# model_cnn.add(layers.Dense(120, activation='relu'))\n",
    "\n",
    "# # Fully Connected Layer: 84 neurons, ReLU activation\n",
    "# model_cnn.add(layers.Dense(84, activation='relu'))\n",
    "\n",
    "# # Output Layer: 1 neuron (for binary classification), sigmoid activation\n",
    "# model_cnn.add(layers.Dense(1, activation='sigmoid'))\n",
    "\n",
    "# # Compile the model\n",
    "# model_cnn.compile(optimizer=optimizers.RMSprop(learning_rate=1e-4),\n",
    "#                   loss='binary_crossentropy',  # Binary classification loss\n",
    "#                   metrics=['accuracy'])\n",
    "\n",
    "# # Model Summary\n",
    "# model_cnn.summary()\n",
    "\n",
    "# # Train the model\n",
    "# history = model_cnn.fit(\n",
    "#     train_generator,  # Training data generator\n",
    "#     steps_per_epoch=train_generator.samples // train_generator.batch_size,  # Steps per epoch\n",
    "#     epochs=20,  # Number of epochs\n",
    "#     validation_data=test_generator,  # Validation data generator\n",
    "#     validation_steps=test_generator.samples // test_generator.batch_size  # Validation steps\n",
    "# )"
   ]
  },
  {
   "cell_type": "code",
   "execution_count": 51,
   "id": "9fc8f3bb-a516-4541-b6fc-fab3e9ff8431",
   "metadata": {},
   "outputs": [
    {
     "name": "stdout",
     "output_type": "stream",
     "text": [
      "\u001b[1m427/427\u001b[0m \u001b[32m━━━━━━━━━━━━━━━━━━━━\u001b[0m\u001b[37m\u001b[0m \u001b[1m95s\u001b[0m 220ms/step - accuracy: 0.6770 - loss: 0.6184 - val_accuracy: 0.8332 - val_loss: 0.4500\n"
     ]
    }
   ],
   "source": [
    "# fit the model from image generator\n",
    "history = model_lenet5.fit(\n",
    "            train_rescale_ds,\n",
    "            batch_size=32,\n",
    "            epochs=1,\n",
    "            validation_data=val_rescale_ds\n",
    ")"
   ]
  },
  {
   "cell_type": "code",
   "execution_count": 47,
   "id": "3382ce2f-3fb2-4006-871a-7c0b6f5db98d",
   "metadata": {},
   "outputs": [
    {
     "data": {
      "text/plain": [
       "0.9512423872947693"
      ]
     },
     "execution_count": 47,
     "metadata": {},
     "output_type": "execute_result"
    }
   ],
   "source": [
    "test_loss, test_accuracy = model_lenet5.evaluate(test_rescale_ds, verbose=0)\n",
    "test_accuracy"
   ]
  },
  {
   "cell_type": "markdown",
   "id": "5e214211-5c5e-4356-b9ad-aeea07edb04a",
   "metadata": {},
   "source": [
    "Part 3: (7 points) Model inference server and deployment **help class site MLOps -> developing an inference server in flask\r\n",
    "\r\n",
    "For the best model built in part 2, persist the trained model to disk so that it can be reconstituted easily. Develop a simple inference server to serve your trained model over HTTP. There should be at least two endpoints:\r\n",
    "\r\n",
    "A model summary endpoint GET /summary providing metadata about the model.\r\n",
    "\r\n",
    "Note: This endpoint must be accept requests to: GET /summary and it must return a JSON response.\r\n",
    "\r\n",
    "An inference endpoint POST /inference that can perform classification on a\n",
    "\n",
    "#cannot build docker image in jupyter server (use command line on VM)\n",
    "everything in your notebook should be on machine in nb-data\n",
    "\n",
    "Dockerfile and api.py can be created in notebook but docker build and docker commands (run) cant be in jupter\n",
    "\n",
    "\n",
    "unit 3 for project have to do option 1\n",
    "1/ Requre the user send a raw image file, such as a png or jpgn image."
   ]
  },
  {
   "cell_type": "code",
   "execution_count": 35,
   "id": "98ea6969-638a-48f9-b46f-5d2713029b38",
   "metadata": {},
   "outputs": [],
   "source": [
    "# Save the trained model\n",
    "# Save the model in the new .keras format\n",
    "model_lenet5.save('bst_model.keras')"
   ]
  },
  {
   "cell_type": "markdown",
   "id": "33d4bd44-bf58-46fa-96f7-d4837fbb4396",
   "metadata": {},
   "source": [
    "Part 4: (7 points) Write a 3 page report summarizing your work. (info on class page)) (1 pt)"
   ]
  },
  {
   "cell_type": "code",
   "execution_count": 36,
   "id": "786e0c1e-fe27-4b08-9114-c131a5f7a390",
   "metadata": {},
   "outputs": [],
   "source": [
    "#import tensorflow as tf\n",
    "#model = tf.keras.models.load_model('b_model.keras')\n",
    "\n",
    "##model.load(\"b_mode.keras\")"
   ]
  },
  {
   "cell_type": "code",
   "execution_count": 37,
   "id": "f7d44bce-01d2-462b-9f5f-20b92c8ab94b",
   "metadata": {},
   "outputs": [
    {
     "name": "stdout",
     "output_type": "stream",
     "text": [
      "/code/harveyDamage\n"
     ]
    }
   ],
   "source": [
    "!pwd"
   ]
  },
  {
   "cell_type": "code",
   "execution_count": 60,
   "id": "0c2f7331-5c10-4138-b4f9-133643d1b0bb",
   "metadata": {},
   "outputs": [
    {
     "name": "stdout",
     "output_type": "stream",
     "text": [
      "(<tf.Tensor: shape=(32, 128, 128, 3), dtype=float32, numpy=\n",
      "array([[[[0.4039216 , 0.46274513, 0.33333334],\n",
      "         [0.3921569 , 0.45098042, 0.32156864],\n",
      "         [0.37647063, 0.43529415, 0.30588236],\n",
      "         ...,\n",
      "         [0.09411766, 0.18431373, 0.12156864],\n",
      "         [0.10980393, 0.20392159, 0.14117648],\n",
      "         [0.1254902 , 0.21960786, 0.15686275]],\n",
      "\n",
      "        [[0.38431376, 0.4431373 , 0.3137255 ],\n",
      "         [0.38823533, 0.44705886, 0.31764707],\n",
      "         [0.39607847, 0.454902  , 0.3254902 ],\n",
      "         ...,\n",
      "         [0.10196079, 0.19215688, 0.12941177],\n",
      "         [0.10196079, 0.19607845, 0.13333334],\n",
      "         [0.10588236, 0.20000002, 0.13725491]],\n",
      "\n",
      "        [[0.3921569 , 0.45098042, 0.32156864],\n",
      "         [0.39607847, 0.454902  , 0.3254902 ],\n",
      "         [0.4039216 , 0.46274513, 0.33333334],\n",
      "         ...,\n",
      "         [0.10196079, 0.19215688, 0.12941177],\n",
      "         [0.09803922, 0.18823531, 0.1254902 ],\n",
      "         [0.09803922, 0.18823531, 0.1254902 ]],\n",
      "\n",
      "        ...,\n",
      "\n",
      "        [[0.38823533, 0.45098042, 0.30980393],\n",
      "         [0.3921569 , 0.454902  , 0.3137255 ],\n",
      "         [0.40000004, 0.46274513, 0.32156864],\n",
      "         ...,\n",
      "         [0.2509804 , 0.31764707, 0.24313727],\n",
      "         [0.24705884, 0.3137255 , 0.2392157 ],\n",
      "         [0.2509804 , 0.31764707, 0.24313727]],\n",
      "\n",
      "        [[0.39607847, 0.46274513, 0.32941177],\n",
      "         [0.39607847, 0.46274513, 0.32941177],\n",
      "         [0.3921569 , 0.45882356, 0.3254902 ],\n",
      "         ...,\n",
      "         [0.1764706 , 0.24313727, 0.16862746],\n",
      "         [0.16862746, 0.23529413, 0.16078432],\n",
      "         [0.16078432, 0.227451  , 0.15294118]],\n",
      "\n",
      "        [[0.4039216 , 0.47058827, 0.3372549 ],\n",
      "         [0.39607847, 0.46274513, 0.32941177],\n",
      "         [0.38823533, 0.454902  , 0.32156864],\n",
      "         ...,\n",
      "         [0.14509805, 0.21176472, 0.13725491],\n",
      "         [0.15294118, 0.21960786, 0.14509805],\n",
      "         [0.14901961, 0.21568629, 0.14117648]]],\n",
      "\n",
      "\n",
      "       [[[0.22352943, 0.27450982, 0.19607845],\n",
      "         [0.227451  , 0.2784314 , 0.20000002],\n",
      "         [0.2627451 , 0.30980393, 0.23137257],\n",
      "         ...,\n",
      "         [0.40784317, 0.41960788, 0.3529412 ],\n",
      "         [0.45098042, 0.46274513, 0.38823533],\n",
      "         [0.47450984, 0.48627454, 0.41176474]],\n",
      "\n",
      "        [[0.23137257, 0.28235295, 0.20392159],\n",
      "         [0.2392157 , 0.2901961 , 0.21176472],\n",
      "         [0.25882354, 0.30980393, 0.23137257],\n",
      "         ...,\n",
      "         [0.36862746, 0.3803922 , 0.3137255 ],\n",
      "         [0.38823533, 0.40000004, 0.3254902 ],\n",
      "         [0.3921569 , 0.4039216 , 0.32941177]],\n",
      "\n",
      "        [[0.21568629, 0.27450982, 0.19215688],\n",
      "         [0.23529413, 0.29411766, 0.21176472],\n",
      "         [0.2392157 , 0.29803923, 0.20784315],\n",
      "         ...,\n",
      "         [0.27450982, 0.28627452, 0.21960786],\n",
      "         [0.2784314 , 0.2901961 , 0.21568629],\n",
      "         [0.27058825, 0.28235295, 0.20784315]],\n",
      "\n",
      "        ...,\n",
      "\n",
      "        [[0.32156864, 0.36862746, 0.2901961 ],\n",
      "         [0.3254902 , 0.37254903, 0.29411766],\n",
      "         [0.33333334, 0.3803922 , 0.3019608 ],\n",
      "         ...,\n",
      "         [0.20392159, 0.21960786, 0.15294118],\n",
      "         [0.21176472, 0.227451  , 0.16862746],\n",
      "         [0.2509804 , 0.2784314 , 0.21568629]],\n",
      "\n",
      "        [[0.28627452, 0.3372549 , 0.25882354],\n",
      "         [0.3019608 , 0.3529412 , 0.27450982],\n",
      "         [0.3254902 , 0.37647063, 0.29803923],\n",
      "         ...,\n",
      "         [0.27450982, 0.28627452, 0.21960786],\n",
      "         [0.2509804 , 0.26666668, 0.20000002],\n",
      "         [0.2509804 , 0.26666668, 0.20000002]],\n",
      "\n",
      "        [[0.26666668, 0.31764707, 0.2392157 ],\n",
      "         [0.28627452, 0.3372549 , 0.25882354],\n",
      "         [0.3019608 , 0.3529412 , 0.27450982],\n",
      "         ...,\n",
      "         [0.25882354, 0.27058825, 0.20392159],\n",
      "         [0.28627452, 0.29803923, 0.23137257],\n",
      "         [0.29803923, 0.3137255 , 0.24705884]]],\n",
      "\n",
      "\n",
      "       [[[0.3921569 , 0.43921572, 0.2901961 ],\n",
      "         [0.40784317, 0.454902  , 0.30588236],\n",
      "         [0.427451  , 0.47450984, 0.3254902 ],\n",
      "         ...,\n",
      "         [0.18823531, 0.30980393, 0.14901961],\n",
      "         [0.20784315, 0.32941177, 0.16862746],\n",
      "         [0.2627451 , 0.38431376, 0.22352943]],\n",
      "\n",
      "        [[0.39607847, 0.4431373 , 0.29411766],\n",
      "         [0.41176474, 0.45882356, 0.30980393],\n",
      "         [0.42352945, 0.47058827, 0.32156864],\n",
      "         ...,\n",
      "         [0.21176472, 0.33333334, 0.17254902],\n",
      "         [0.20392159, 0.3254902 , 0.16470589],\n",
      "         [0.23529413, 0.35686275, 0.19607845]],\n",
      "\n",
      "        [[0.3921569 , 0.45098042, 0.29803923],\n",
      "         [0.4039216 , 0.46274513, 0.30980393],\n",
      "         [0.41176474, 0.47058827, 0.31764707],\n",
      "         ...,\n",
      "         [0.25882354, 0.3803922 , 0.21960786],\n",
      "         [0.227451  , 0.34901962, 0.18823531],\n",
      "         [0.227451  , 0.34901962, 0.18823531]],\n",
      "\n",
      "        ...,\n",
      "\n",
      "        [[0.39607847, 0.454902  , 0.3019608 ],\n",
      "         [0.41960788, 0.4784314 , 0.3254902 ],\n",
      "         [0.43137258, 0.4901961 , 0.3372549 ],\n",
      "         ...,\n",
      "         [0.40000004, 0.45882356, 0.29803923],\n",
      "         [0.39607847, 0.454902  , 0.29411766],\n",
      "         [0.37647063, 0.43529415, 0.27450982]],\n",
      "\n",
      "        [[0.38431376, 0.4431373 , 0.2901961 ],\n",
      "         [0.40784317, 0.4666667 , 0.3137255 ],\n",
      "         [0.42352945, 0.48235297, 0.32941177],\n",
      "         ...,\n",
      "         [0.40784317, 0.4666667 , 0.30588236],\n",
      "         [0.427451  , 0.47450984, 0.31764707],\n",
      "         [0.42352945, 0.47058827, 0.3137255 ]],\n",
      "\n",
      "        [[0.3921569 , 0.45098042, 0.29803923],\n",
      "         [0.40784317, 0.4666667 , 0.3137255 ],\n",
      "         [0.4039216 , 0.46274513, 0.30980393],\n",
      "         ...,\n",
      "         [0.37254903, 0.43137258, 0.27058825],\n",
      "         [0.3921569 , 0.43921572, 0.28235295],\n",
      "         [0.39607847, 0.4431373 , 0.28627452]]],\n",
      "\n",
      "\n",
      "       ...,\n",
      "\n",
      "\n",
      "       [[[0.5568628 , 0.58431375, 0.5137255 ],\n",
      "         [0.69411767, 0.72156864, 0.6509804 ],\n",
      "         [0.6784314 , 0.69411767, 0.627451  ],\n",
      "         ...,\n",
      "         [0.4784314 , 0.52156866, 0.39607847],\n",
      "         [0.52156866, 0.5568628 , 0.43529415],\n",
      "         [0.54901963, 0.58431375, 0.46274513]],\n",
      "\n",
      "        [[0.7843138 , 0.8117648 , 0.7411765 ],\n",
      "         [0.8078432 , 0.8352942 , 0.76470596],\n",
      "         [0.8000001 , 0.81568635, 0.7490196 ],\n",
      "         ...,\n",
      "         [0.44705886, 0.4901961 , 0.3647059 ],\n",
      "         [0.48627454, 0.52156866, 0.40000004],\n",
      "         [0.50980395, 0.54509807, 0.42352945]],\n",
      "\n",
      "        [[0.8196079 , 0.8470589 , 0.77647066],\n",
      "         [0.8000001 , 0.82745105, 0.7568628 ],\n",
      "         [0.8235295 , 0.83921576, 0.7725491 ],\n",
      "         ...,\n",
      "         [0.40784317, 0.45098042, 0.3254902 ],\n",
      "         [0.43137258, 0.47450984, 0.34901962],\n",
      "         [0.45098042, 0.49411768, 0.36862746]],\n",
      "\n",
      "        ...,\n",
      "\n",
      "        [[0.227451  , 0.24705884, 0.16078432],\n",
      "         [0.24313727, 0.2627451 , 0.1764706 ],\n",
      "         [0.25882354, 0.2784314 , 0.19215688],\n",
      "         ...,\n",
      "         [0.41960788, 0.45098042, 0.36078432],\n",
      "         [0.41960788, 0.45098042, 0.36078432],\n",
      "         [0.41960788, 0.45098042, 0.35686275]],\n",
      "\n",
      "        [[0.25490198, 0.26666668, 0.18431373],\n",
      "         [0.25882354, 0.27058825, 0.18823531],\n",
      "         [0.27450982, 0.2901961 , 0.20000002],\n",
      "         ...,\n",
      "         [0.4156863 , 0.44705886, 0.3647059 ],\n",
      "         [0.4156863 , 0.44705886, 0.3647059 ],\n",
      "         [0.4156863 , 0.44705886, 0.35686275]],\n",
      "\n",
      "        [[0.2784314 , 0.2901961 , 0.20784315],\n",
      "         [0.27058825, 0.28235295, 0.20000002],\n",
      "         [0.28627452, 0.3019608 , 0.21176472],\n",
      "         ...,\n",
      "         [0.40784317, 0.43921572, 0.35686275],\n",
      "         [0.40784317, 0.43921572, 0.35686275],\n",
      "         [0.40784317, 0.43921572, 0.35686275]]],\n",
      "\n",
      "\n",
      "       [[[0.454902  , 0.4666667 , 0.3529412 ],\n",
      "         [0.36862746, 0.38823533, 0.27058825],\n",
      "         [0.3019608 , 0.32156864, 0.20392159],\n",
      "         ...,\n",
      "         [0.36078432, 0.42352945, 0.2784314 ],\n",
      "         [0.3529412 , 0.42352945, 0.27450982],\n",
      "         [0.33333334, 0.4039216 , 0.25490198]],\n",
      "\n",
      "        [[0.40000004, 0.41176474, 0.29803923],\n",
      "         [0.32941177, 0.34901962, 0.23137257],\n",
      "         [0.26666668, 0.28627452, 0.16862746],\n",
      "         ...,\n",
      "         [0.35686275, 0.41960788, 0.27450982],\n",
      "         [0.34901962, 0.41960788, 0.27058825],\n",
      "         [0.33333334, 0.4039216 , 0.25490198]],\n",
      "\n",
      "        [[0.38823533, 0.40000004, 0.28627452],\n",
      "         [0.34117648, 0.36078432, 0.24313727],\n",
      "         [0.2784314 , 0.29803923, 0.18039216],\n",
      "         ...,\n",
      "         [0.35686275, 0.41960788, 0.27450982],\n",
      "         [0.34509805, 0.4156863 , 0.26666668],\n",
      "         [0.33333334, 0.4039216 , 0.25490198]],\n",
      "\n",
      "        ...,\n",
      "\n",
      "        [[0.2392157 , 0.3019608 , 0.18823531],\n",
      "         [0.25490198, 0.31764707, 0.20392159],\n",
      "         [0.26666668, 0.32941177, 0.21568629],\n",
      "         ...,\n",
      "         [0.2627451 , 0.3019608 , 0.20392159],\n",
      "         [0.29411766, 0.33333334, 0.23529413],\n",
      "         [0.32941177, 0.36862746, 0.27058825]],\n",
      "\n",
      "        [[0.21960786, 0.28235295, 0.16862746],\n",
      "         [0.2392157 , 0.3019608 , 0.18823531],\n",
      "         [0.2509804 , 0.3137255 , 0.20000002],\n",
      "         ...,\n",
      "         [0.24705884, 0.28627452, 0.19215688],\n",
      "         [0.2509804 , 0.2901961 , 0.19607845],\n",
      "         [0.2627451 , 0.3019608 , 0.20784315]],\n",
      "\n",
      "        [[0.18431373, 0.24705884, 0.13333334],\n",
      "         [0.20784315, 0.27058825, 0.15686275],\n",
      "         [0.23137257, 0.29411766, 0.18039216],\n",
      "         ...,\n",
      "         [0.2392157 , 0.2784314 , 0.18431373],\n",
      "         [0.21176472, 0.2509804 , 0.15686275],\n",
      "         [0.19215688, 0.23137257, 0.13725491]]],\n",
      "\n",
      "\n",
      "       [[[0.427451  , 0.43137258, 0.30588236],\n",
      "         [0.38431376, 0.38823533, 0.2627451 ],\n",
      "         [0.32941177, 0.34509805, 0.21568629],\n",
      "         ...,\n",
      "         [0.5568628 , 0.5529412 , 0.43137258],\n",
      "         [0.5137255 , 0.50980395, 0.3921569 ],\n",
      "         [0.45882356, 0.454902  , 0.3372549 ]],\n",
      "\n",
      "        [[0.4431373 , 0.44705886, 0.32156864],\n",
      "         [0.40000004, 0.4039216 , 0.2784314 ],\n",
      "         [0.34117648, 0.35686275, 0.227451  ],\n",
      "         ...,\n",
      "         [0.5529412 , 0.54901963, 0.43137258],\n",
      "         [0.5176471 , 0.5137255 , 0.39607847],\n",
      "         [0.47450984, 0.47058827, 0.3529412 ]],\n",
      "\n",
      "        [[0.47058827, 0.48627454, 0.35686275],\n",
      "         [0.43137258, 0.44705886, 0.31764707],\n",
      "         [0.3921569 , 0.40784317, 0.2784314 ],\n",
      "         ...,\n",
      "         [0.52156866, 0.5176471 , 0.40784317],\n",
      "         [0.49803925, 0.49411768, 0.38431376],\n",
      "         [0.47058827, 0.4666667 , 0.35686275]],\n",
      "\n",
      "        ...,\n",
      "\n",
      "        [[0.2627451 , 0.35686275, 0.22352943],\n",
      "         [0.24705884, 0.34117648, 0.20784315],\n",
      "         [0.23529413, 0.31764707, 0.18823531],\n",
      "         ...,\n",
      "         [0.20000002, 0.30588236, 0.16862746],\n",
      "         [0.18039216, 0.28627452, 0.14901961],\n",
      "         [0.17254902, 0.2784314 , 0.14117648]],\n",
      "\n",
      "        [[0.26666668, 0.36078432, 0.227451  ],\n",
      "         [0.25490198, 0.34901962, 0.21568629],\n",
      "         [0.2509804 , 0.33333334, 0.20392159],\n",
      "         ...,\n",
      "         [0.18823531, 0.29411766, 0.15686275],\n",
      "         [0.16078432, 0.26666668, 0.12941177],\n",
      "         [0.14901961, 0.25490198, 0.11764707]],\n",
      "\n",
      "        [[0.2392157 , 0.33333334, 0.20000002],\n",
      "         [0.23529413, 0.32941177, 0.19607845],\n",
      "         [0.24313727, 0.3254902 , 0.19607845],\n",
      "         ...,\n",
      "         [0.16470589, 0.27058825, 0.13333334],\n",
      "         [0.13333334, 0.2392157 , 0.10196079],\n",
      "         [0.1137255 , 0.21960786, 0.08235294]]]], dtype=float32)>, <tf.Tensor: shape=(32,), dtype=int32, numpy=\n",
      "array([0, 1, 1, 0, 1, 0, 0, 1, 1, 0, 1, 0, 0, 0, 0, 1, 0, 1, 0, 0, 1, 1,\n",
      "       0, 1, 0, 0, 0, 0, 0, 1, 1, 0], dtype=int32)>)\n"
     ]
    }
   ],
   "source": [
    "# type(test_rescale_ds)\n",
    "type(test_ds)\n",
    "for t in test_rescale_ds:\n",
    "    print(t)\n",
    "    break"
   ]
  },
  {
   "cell_type": "code",
   "execution_count": 74,
   "id": "50d43964-18f7-48ca-b8f9-e498ab1704b3",
   "metadata": {},
   "outputs": [
    {
     "name": "stdout",
     "output_type": "stream",
     "text": [
      "\u001b[1m1/1\u001b[0m \u001b[32m━━━━━━━━━━━━━━━━━━━━\u001b[0m\u001b[37m\u001b[0m \u001b[1m0s\u001b[0m 38ms/step\n",
      "[[0.55635965]]\n"
     ]
    }
   ],
   "source": [
    "# import numpy as np\n",
    "# path = 'coe379L-sp25/code/Project3/data/no_damage/-95.6567_29.835759999999997.jpeg'\n",
    "# img = Image.open(path).resize((128, 128))\n",
    "# img_array = np.array(img) / 255.0\n",
    "# img_list = np.expand_dims(img_array, axis=0)\n",
    "\n",
    "# # print(img_list)\n",
    "# # Make prediction\n",
    "# prediction = model_lenet5.predict(img_list)\n",
    "# print(prediction)\n",
    "# predicted_class = 'damage' if prediction[0][0] > 0.5 else 'no_damage'  # Adjust threshold as needed"
   ]
  },
  {
   "cell_type": "code",
   "execution_count": null,
   "id": "c6db19fd-1cbf-416c-9007-7e997eedc869",
   "metadata": {},
   "outputs": [],
   "source": []
  },
  {
   "cell_type": "code",
   "execution_count": null,
   "id": "67350eb4-5f06-41b8-9bc7-f76995015ce5",
   "metadata": {},
   "outputs": [],
   "source": []
  }
 ],
 "metadata": {
  "kernelspec": {
   "display_name": "Python 3 (ipykernel)",
   "language": "python",
   "name": "python3"
  },
  "language_info": {
   "codemirror_mode": {
    "name": "ipython",
    "version": 3
   },
   "file_extension": ".py",
   "mimetype": "text/x-python",
   "name": "python",
   "nbconvert_exporter": "python",
   "pygments_lexer": "ipython3",
   "version": "3.11.1"
  }
 },
 "nbformat": 4,
 "nbformat_minor": 5
}
